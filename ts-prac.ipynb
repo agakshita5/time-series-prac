{
 "cells": [
  {
   "cell_type": "code",
   "execution_count": 1,
   "id": "f44d7639",
   "metadata": {
    "_cell_guid": "b1076dfc-b9ad-4769-8c92-a6c4dae69d19",
    "_uuid": "8f2839f25d086af736a60e9eeb907d3b93b6e0e5",
    "execution": {
     "iopub.execute_input": "2025-07-02T10:56:49.106914Z",
     "iopub.status.busy": "2025-07-02T10:56:49.106434Z",
     "iopub.status.idle": "2025-07-02T10:56:49.122468Z",
     "shell.execute_reply": "2025-07-02T10:56:49.121211Z"
    },
    "papermill": {
     "duration": 0.026628,
     "end_time": "2025-07-02T10:56:49.124491",
     "exception": false,
     "start_time": "2025-07-02T10:56:49.097863",
     "status": "completed"
    },
    "tags": []
   },
   "outputs": [
    {
     "name": "stdout",
     "output_type": "stream",
     "text": [
      "/kaggle/input/bitcoin-historical-data/btcusd_1-min_data.csv\n"
     ]
    }
   ],
   "source": [
    "import os\n",
    "for dirname, _, filenames in os.walk('/kaggle/input'):\n",
    "    for filename in filenames:\n",
    "        print(os.path.join(dirname, filename))"
   ]
  },
  {
   "cell_type": "code",
   "execution_count": 2,
   "id": "85b6f2e4",
   "metadata": {
    "execution": {
     "iopub.execute_input": "2025-07-02T10:56:49.139796Z",
     "iopub.status.busy": "2025-07-02T10:56:49.139382Z",
     "iopub.status.idle": "2025-07-02T10:56:51.062683Z",
     "shell.execute_reply": "2025-07-02T10:56:51.061782Z"
    },
    "papermill": {
     "duration": 1.932938,
     "end_time": "2025-07-02T10:56:51.064430",
     "exception": false,
     "start_time": "2025-07-02T10:56:49.131492",
     "status": "completed"
    },
    "tags": []
   },
   "outputs": [],
   "source": [
    "import numpy as np \n",
    "import pandas as pd \n",
    "import matplotlib.pyplot as plt"
   ]
  },
  {
   "cell_type": "code",
   "execution_count": 3,
   "id": "de87b368",
   "metadata": {
    "execution": {
     "iopub.execute_input": "2025-07-02T10:56:51.074082Z",
     "iopub.status.busy": "2025-07-02T10:56:51.073203Z",
     "iopub.status.idle": "2025-07-02T10:56:51.077541Z",
     "shell.execute_reply": "2025-07-02T10:56:51.076621Z"
    },
    "papermill": {
     "duration": 0.010458,
     "end_time": "2025-07-02T10:56:51.078955",
     "exception": false,
     "start_time": "2025-07-02T10:56:51.068497",
     "status": "completed"
    },
    "tags": []
   },
   "outputs": [],
   "source": [
    "import warnings \n",
    "warnings.filterwarnings('ignore')"
   ]
  },
  {
   "cell_type": "code",
   "execution_count": 4,
   "id": "6775779d",
   "metadata": {
    "execution": {
     "iopub.execute_input": "2025-07-02T10:56:51.088475Z",
     "iopub.status.busy": "2025-07-02T10:56:51.087583Z",
     "iopub.status.idle": "2025-07-02T10:56:58.562636Z",
     "shell.execute_reply": "2025-07-02T10:56:58.561609Z"
    },
    "papermill": {
     "duration": 7.481418,
     "end_time": "2025-07-02T10:56:58.564283",
     "exception": false,
     "start_time": "2025-07-02T10:56:51.082865",
     "status": "completed"
    },
    "tags": []
   },
   "outputs": [],
   "source": [
    "df = pd.read_csv('/kaggle/input/bitcoin-historical-data/btcusd_1-min_data.csv')"
   ]
  },
  {
   "cell_type": "markdown",
   "id": "db49ecd8",
   "metadata": {
    "papermill": {
     "duration": 0.003413,
     "end_time": "2025-07-02T10:56:58.571496",
     "exception": false,
     "start_time": "2025-07-02T10:56:58.568083",
     "status": "completed"
    },
    "tags": []
   },
   "source": [
    "# Data Cleaning"
   ]
  },
  {
   "cell_type": "code",
   "execution_count": 5,
   "id": "ba8f2606",
   "metadata": {
    "collapsed": true,
    "execution": {
     "iopub.execute_input": "2025-07-02T10:56:58.579824Z",
     "iopub.status.busy": "2025-07-02T10:56:58.579520Z",
     "iopub.status.idle": "2025-07-02T10:56:58.605290Z",
     "shell.execute_reply": "2025-07-02T10:56:58.604409Z"
    },
    "jupyter": {
     "outputs_hidden": true
    },
    "papermill": {
     "duration": 0.031591,
     "end_time": "2025-07-02T10:56:58.606725",
     "exception": false,
     "start_time": "2025-07-02T10:56:58.575134",
     "status": "completed"
    },
    "tags": []
   },
   "outputs": [
    {
     "data": {
      "text/html": [
       "<div>\n",
       "<style scoped>\n",
       "    .dataframe tbody tr th:only-of-type {\n",
       "        vertical-align: middle;\n",
       "    }\n",
       "\n",
       "    .dataframe tbody tr th {\n",
       "        vertical-align: top;\n",
       "    }\n",
       "\n",
       "    .dataframe thead th {\n",
       "        text-align: right;\n",
       "    }\n",
       "</style>\n",
       "<table border=\"1\" class=\"dataframe\">\n",
       "  <thead>\n",
       "    <tr style=\"text-align: right;\">\n",
       "      <th></th>\n",
       "      <th>Timestamp</th>\n",
       "      <th>Open</th>\n",
       "      <th>High</th>\n",
       "      <th>Low</th>\n",
       "      <th>Close</th>\n",
       "      <th>Volume</th>\n",
       "    </tr>\n",
       "  </thead>\n",
       "  <tbody>\n",
       "    <tr>\n",
       "      <th>0</th>\n",
       "      <td>1.325412e+09</td>\n",
       "      <td>4.58</td>\n",
       "      <td>4.58</td>\n",
       "      <td>4.58</td>\n",
       "      <td>4.58</td>\n",
       "      <td>0.0</td>\n",
       "    </tr>\n",
       "    <tr>\n",
       "      <th>1</th>\n",
       "      <td>1.325412e+09</td>\n",
       "      <td>4.58</td>\n",
       "      <td>4.58</td>\n",
       "      <td>4.58</td>\n",
       "      <td>4.58</td>\n",
       "      <td>0.0</td>\n",
       "    </tr>\n",
       "    <tr>\n",
       "      <th>2</th>\n",
       "      <td>1.325412e+09</td>\n",
       "      <td>4.58</td>\n",
       "      <td>4.58</td>\n",
       "      <td>4.58</td>\n",
       "      <td>4.58</td>\n",
       "      <td>0.0</td>\n",
       "    </tr>\n",
       "    <tr>\n",
       "      <th>3</th>\n",
       "      <td>1.325412e+09</td>\n",
       "      <td>4.58</td>\n",
       "      <td>4.58</td>\n",
       "      <td>4.58</td>\n",
       "      <td>4.58</td>\n",
       "      <td>0.0</td>\n",
       "    </tr>\n",
       "    <tr>\n",
       "      <th>4</th>\n",
       "      <td>1.325412e+09</td>\n",
       "      <td>4.58</td>\n",
       "      <td>4.58</td>\n",
       "      <td>4.58</td>\n",
       "      <td>4.58</td>\n",
       "      <td>0.0</td>\n",
       "    </tr>\n",
       "  </tbody>\n",
       "</table>\n",
       "</div>"
      ],
      "text/plain": [
       "      Timestamp  Open  High   Low  Close  Volume\n",
       "0  1.325412e+09  4.58  4.58  4.58   4.58     0.0\n",
       "1  1.325412e+09  4.58  4.58  4.58   4.58     0.0\n",
       "2  1.325412e+09  4.58  4.58  4.58   4.58     0.0\n",
       "3  1.325412e+09  4.58  4.58  4.58   4.58     0.0\n",
       "4  1.325412e+09  4.58  4.58  4.58   4.58     0.0"
      ]
     },
     "execution_count": 5,
     "metadata": {},
     "output_type": "execute_result"
    }
   ],
   "source": [
    "df.head()"
   ]
  },
  {
   "cell_type": "code",
   "execution_count": 6,
   "id": "5964ab7d",
   "metadata": {
    "execution": {
     "iopub.execute_input": "2025-07-02T10:56:58.616094Z",
     "iopub.status.busy": "2025-07-02T10:56:58.615778Z",
     "iopub.status.idle": "2025-07-02T10:56:58.621036Z",
     "shell.execute_reply": "2025-07-02T10:56:58.620350Z"
    },
    "papermill": {
     "duration": 0.011679,
     "end_time": "2025-07-02T10:56:58.622290",
     "exception": false,
     "start_time": "2025-07-02T10:56:58.610611",
     "status": "completed"
    },
    "tags": []
   },
   "outputs": [
    {
     "data": {
      "text/plain": [
       "(7098928, 6)"
      ]
     },
     "execution_count": 6,
     "metadata": {},
     "output_type": "execute_result"
    }
   ],
   "source": [
    "df.shape"
   ]
  },
  {
   "cell_type": "code",
   "execution_count": 7,
   "id": "4a8c13e6",
   "metadata": {
    "collapsed": true,
    "execution": {
     "iopub.execute_input": "2025-07-02T10:56:58.631930Z",
     "iopub.status.busy": "2025-07-02T10:56:58.631425Z",
     "iopub.status.idle": "2025-07-02T10:56:58.655784Z",
     "shell.execute_reply": "2025-07-02T10:56:58.654749Z"
    },
    "jupyter": {
     "outputs_hidden": true
    },
    "papermill": {
     "duration": 0.030689,
     "end_time": "2025-07-02T10:56:58.657262",
     "exception": false,
     "start_time": "2025-07-02T10:56:58.626573",
     "status": "completed"
    },
    "tags": []
   },
   "outputs": [
    {
     "name": "stdout",
     "output_type": "stream",
     "text": [
      "<class 'pandas.core.frame.DataFrame'>\n",
      "RangeIndex: 7098928 entries, 0 to 7098927\n",
      "Data columns (total 6 columns):\n",
      " #   Column     Dtype  \n",
      "---  ------     -----  \n",
      " 0   Timestamp  float64\n",
      " 1   Open       float64\n",
      " 2   High       float64\n",
      " 3   Low        float64\n",
      " 4   Close      float64\n",
      " 5   Volume     float64\n",
      "dtypes: float64(6)\n",
      "memory usage: 325.0 MB\n"
     ]
    }
   ],
   "source": [
    "df.info()"
   ]
  },
  {
   "cell_type": "code",
   "execution_count": 8,
   "id": "a7cf3221",
   "metadata": {
    "execution": {
     "iopub.execute_input": "2025-07-02T10:56:58.666950Z",
     "iopub.status.busy": "2025-07-02T10:56:58.666304Z",
     "iopub.status.idle": "2025-07-02T10:57:02.199766Z",
     "shell.execute_reply": "2025-07-02T10:57:02.198738Z"
    },
    "papermill": {
     "duration": 3.539986,
     "end_time": "2025-07-02T10:57:02.201488",
     "exception": false,
     "start_time": "2025-07-02T10:56:58.661502",
     "status": "completed"
    },
    "tags": []
   },
   "outputs": [],
   "source": [
    "df['Date']= pd.to_datetime(df['Timestamp'], unit='s')"
   ]
  },
  {
   "cell_type": "code",
   "execution_count": 9,
   "id": "b922d6b1",
   "metadata": {
    "collapsed": true,
    "execution": {
     "iopub.execute_input": "2025-07-02T10:57:02.211256Z",
     "iopub.status.busy": "2025-07-02T10:57:02.210400Z",
     "iopub.status.idle": "2025-07-02T10:57:02.223283Z",
     "shell.execute_reply": "2025-07-02T10:57:02.222154Z"
    },
    "jupyter": {
     "outputs_hidden": true
    },
    "papermill": {
     "duration": 0.019263,
     "end_time": "2025-07-02T10:57:02.224831",
     "exception": false,
     "start_time": "2025-07-02T10:57:02.205568",
     "status": "completed"
    },
    "tags": []
   },
   "outputs": [
    {
     "data": {
      "text/html": [
       "<div>\n",
       "<style scoped>\n",
       "    .dataframe tbody tr th:only-of-type {\n",
       "        vertical-align: middle;\n",
       "    }\n",
       "\n",
       "    .dataframe tbody tr th {\n",
       "        vertical-align: top;\n",
       "    }\n",
       "\n",
       "    .dataframe thead th {\n",
       "        text-align: right;\n",
       "    }\n",
       "</style>\n",
       "<table border=\"1\" class=\"dataframe\">\n",
       "  <thead>\n",
       "    <tr style=\"text-align: right;\">\n",
       "      <th></th>\n",
       "      <th>Timestamp</th>\n",
       "      <th>Open</th>\n",
       "      <th>High</th>\n",
       "      <th>Low</th>\n",
       "      <th>Close</th>\n",
       "      <th>Volume</th>\n",
       "      <th>Date</th>\n",
       "    </tr>\n",
       "  </thead>\n",
       "  <tbody>\n",
       "    <tr>\n",
       "      <th>0</th>\n",
       "      <td>1.325412e+09</td>\n",
       "      <td>4.58</td>\n",
       "      <td>4.58</td>\n",
       "      <td>4.58</td>\n",
       "      <td>4.58</td>\n",
       "      <td>0.0</td>\n",
       "      <td>2012-01-01 10:01:00</td>\n",
       "    </tr>\n",
       "    <tr>\n",
       "      <th>1</th>\n",
       "      <td>1.325412e+09</td>\n",
       "      <td>4.58</td>\n",
       "      <td>4.58</td>\n",
       "      <td>4.58</td>\n",
       "      <td>4.58</td>\n",
       "      <td>0.0</td>\n",
       "      <td>2012-01-01 10:02:00</td>\n",
       "    </tr>\n",
       "    <tr>\n",
       "      <th>2</th>\n",
       "      <td>1.325412e+09</td>\n",
       "      <td>4.58</td>\n",
       "      <td>4.58</td>\n",
       "      <td>4.58</td>\n",
       "      <td>4.58</td>\n",
       "      <td>0.0</td>\n",
       "      <td>2012-01-01 10:03:00</td>\n",
       "    </tr>\n",
       "    <tr>\n",
       "      <th>3</th>\n",
       "      <td>1.325412e+09</td>\n",
       "      <td>4.58</td>\n",
       "      <td>4.58</td>\n",
       "      <td>4.58</td>\n",
       "      <td>4.58</td>\n",
       "      <td>0.0</td>\n",
       "      <td>2012-01-01 10:04:00</td>\n",
       "    </tr>\n",
       "    <tr>\n",
       "      <th>4</th>\n",
       "      <td>1.325412e+09</td>\n",
       "      <td>4.58</td>\n",
       "      <td>4.58</td>\n",
       "      <td>4.58</td>\n",
       "      <td>4.58</td>\n",
       "      <td>0.0</td>\n",
       "      <td>2012-01-01 10:05:00</td>\n",
       "    </tr>\n",
       "  </tbody>\n",
       "</table>\n",
       "</div>"
      ],
      "text/plain": [
       "      Timestamp  Open  High   Low  Close  Volume                Date\n",
       "0  1.325412e+09  4.58  4.58  4.58   4.58     0.0 2012-01-01 10:01:00\n",
       "1  1.325412e+09  4.58  4.58  4.58   4.58     0.0 2012-01-01 10:02:00\n",
       "2  1.325412e+09  4.58  4.58  4.58   4.58     0.0 2012-01-01 10:03:00\n",
       "3  1.325412e+09  4.58  4.58  4.58   4.58     0.0 2012-01-01 10:04:00\n",
       "4  1.325412e+09  4.58  4.58  4.58   4.58     0.0 2012-01-01 10:05:00"
      ]
     },
     "execution_count": 9,
     "metadata": {},
     "output_type": "execute_result"
    }
   ],
   "source": [
    "df.head()"
   ]
  },
  {
   "cell_type": "code",
   "execution_count": 10,
   "id": "1c1abed7",
   "metadata": {
    "execution": {
     "iopub.execute_input": "2025-07-02T10:57:02.234519Z",
     "iopub.status.busy": "2025-07-02T10:57:02.233959Z",
     "iopub.status.idle": "2025-07-02T10:57:02.675998Z",
     "shell.execute_reply": "2025-07-02T10:57:02.675097Z"
    },
    "papermill": {
     "duration": 0.448802,
     "end_time": "2025-07-02T10:57:02.677802",
     "exception": false,
     "start_time": "2025-07-02T10:57:02.229000",
     "status": "completed"
    },
    "tags": []
   },
   "outputs": [],
   "source": [
    "df = df[~df['Date'].dt.year.isin([2012, 2013, 2014])]\n",
    "# or df = df[(df['year'] >= 2015) & (df['year'] <= 2025)]"
   ]
  },
  {
   "cell_type": "code",
   "execution_count": 11,
   "id": "bbe42137",
   "metadata": {
    "execution": {
     "iopub.execute_input": "2025-07-02T10:57:02.687621Z",
     "iopub.status.busy": "2025-07-02T10:57:02.687260Z",
     "iopub.status.idle": "2025-07-02T10:57:02.693032Z",
     "shell.execute_reply": "2025-07-02T10:57:02.692228Z"
    },
    "papermill": {
     "duration": 0.012301,
     "end_time": "2025-07-02T10:57:02.694473",
     "exception": false,
     "start_time": "2025-07-02T10:57:02.682172",
     "status": "completed"
    },
    "tags": []
   },
   "outputs": [],
   "source": [
    "df.set_index('Date', inplace=True)"
   ]
  },
  {
   "cell_type": "code",
   "execution_count": 12,
   "id": "519e8320",
   "metadata": {
    "collapsed": true,
    "execution": {
     "iopub.execute_input": "2025-07-02T10:57:02.704243Z",
     "iopub.status.busy": "2025-07-02T10:57:02.703920Z",
     "iopub.status.idle": "2025-07-02T10:57:02.717584Z",
     "shell.execute_reply": "2025-07-02T10:57:02.716621Z"
    },
    "jupyter": {
     "outputs_hidden": true
    },
    "papermill": {
     "duration": 0.020286,
     "end_time": "2025-07-02T10:57:02.719088",
     "exception": false,
     "start_time": "2025-07-02T10:57:02.698802",
     "status": "completed"
    },
    "tags": []
   },
   "outputs": [
    {
     "data": {
      "text/html": [
       "<div>\n",
       "<style scoped>\n",
       "    .dataframe tbody tr th:only-of-type {\n",
       "        vertical-align: middle;\n",
       "    }\n",
       "\n",
       "    .dataframe tbody tr th {\n",
       "        vertical-align: top;\n",
       "    }\n",
       "\n",
       "    .dataframe thead th {\n",
       "        text-align: right;\n",
       "    }\n",
       "</style>\n",
       "<table border=\"1\" class=\"dataframe\">\n",
       "  <thead>\n",
       "    <tr style=\"text-align: right;\">\n",
       "      <th></th>\n",
       "      <th>Timestamp</th>\n",
       "      <th>Open</th>\n",
       "      <th>High</th>\n",
       "      <th>Low</th>\n",
       "      <th>Close</th>\n",
       "      <th>Volume</th>\n",
       "    </tr>\n",
       "    <tr>\n",
       "      <th>Date</th>\n",
       "      <th></th>\n",
       "      <th></th>\n",
       "      <th></th>\n",
       "      <th></th>\n",
       "      <th></th>\n",
       "      <th></th>\n",
       "    </tr>\n",
       "  </thead>\n",
       "  <tbody>\n",
       "    <tr>\n",
       "      <th>2015-01-01 00:00:00</th>\n",
       "      <td>1.420070e+09</td>\n",
       "      <td>316.67</td>\n",
       "      <td>316.67</td>\n",
       "      <td>316.67</td>\n",
       "      <td>316.67</td>\n",
       "      <td>1.336312</td>\n",
       "    </tr>\n",
       "    <tr>\n",
       "      <th>2015-01-01 00:01:00</th>\n",
       "      <td>1.420070e+09</td>\n",
       "      <td>316.38</td>\n",
       "      <td>316.38</td>\n",
       "      <td>316.30</td>\n",
       "      <td>316.30</td>\n",
       "      <td>3.000000</td>\n",
       "    </tr>\n",
       "    <tr>\n",
       "      <th>2015-01-01 00:02:00</th>\n",
       "      <td>1.420071e+09</td>\n",
       "      <td>316.30</td>\n",
       "      <td>316.30</td>\n",
       "      <td>316.30</td>\n",
       "      <td>316.30</td>\n",
       "      <td>0.000000</td>\n",
       "    </tr>\n",
       "    <tr>\n",
       "      <th>2015-01-01 00:03:00</th>\n",
       "      <td>1.420071e+09</td>\n",
       "      <td>316.30</td>\n",
       "      <td>316.30</td>\n",
       "      <td>316.30</td>\n",
       "      <td>316.30</td>\n",
       "      <td>0.000000</td>\n",
       "    </tr>\n",
       "    <tr>\n",
       "      <th>2015-01-01 00:04:00</th>\n",
       "      <td>1.420071e+09</td>\n",
       "      <td>316.23</td>\n",
       "      <td>316.88</td>\n",
       "      <td>316.20</td>\n",
       "      <td>316.88</td>\n",
       "      <td>4.077000</td>\n",
       "    </tr>\n",
       "  </tbody>\n",
       "</table>\n",
       "</div>"
      ],
      "text/plain": [
       "                        Timestamp    Open    High     Low   Close    Volume\n",
       "Date                                                                       \n",
       "2015-01-01 00:00:00  1.420070e+09  316.67  316.67  316.67  316.67  1.336312\n",
       "2015-01-01 00:01:00  1.420070e+09  316.38  316.38  316.30  316.30  3.000000\n",
       "2015-01-01 00:02:00  1.420071e+09  316.30  316.30  316.30  316.30  0.000000\n",
       "2015-01-01 00:03:00  1.420071e+09  316.30  316.30  316.30  316.30  0.000000\n",
       "2015-01-01 00:04:00  1.420071e+09  316.23  316.88  316.20  316.88  4.077000"
      ]
     },
     "execution_count": 12,
     "metadata": {},
     "output_type": "execute_result"
    }
   ],
   "source": [
    "df.head()"
   ]
  },
  {
   "cell_type": "code",
   "execution_count": 13,
   "id": "1c12db81",
   "metadata": {
    "collapsed": true,
    "execution": {
     "iopub.execute_input": "2025-07-02T10:57:02.729042Z",
     "iopub.status.busy": "2025-07-02T10:57:02.728765Z",
     "iopub.status.idle": "2025-07-02T10:57:03.118481Z",
     "shell.execute_reply": "2025-07-02T10:57:03.117607Z"
    },
    "jupyter": {
     "outputs_hidden": true
    },
    "papermill": {
     "duration": 0.396313,
     "end_time": "2025-07-02T10:57:03.119950",
     "exception": false,
     "start_time": "2025-07-02T10:57:02.723637",
     "status": "completed"
    },
    "tags": []
   },
   "outputs": [
    {
     "data": {
      "text/html": [
       "<div>\n",
       "<style scoped>\n",
       "    .dataframe tbody tr th:only-of-type {\n",
       "        vertical-align: middle;\n",
       "    }\n",
       "\n",
       "    .dataframe tbody tr th {\n",
       "        vertical-align: top;\n",
       "    }\n",
       "\n",
       "    .dataframe thead th {\n",
       "        text-align: right;\n",
       "    }\n",
       "</style>\n",
       "<table border=\"1\" class=\"dataframe\">\n",
       "  <thead>\n",
       "    <tr style=\"text-align: right;\">\n",
       "      <th></th>\n",
       "      <th>Timestamp</th>\n",
       "      <th>Open</th>\n",
       "      <th>High</th>\n",
       "      <th>Low</th>\n",
       "      <th>Close</th>\n",
       "      <th>Volume</th>\n",
       "    </tr>\n",
       "    <tr>\n",
       "      <th>Date</th>\n",
       "      <th></th>\n",
       "      <th></th>\n",
       "      <th></th>\n",
       "      <th></th>\n",
       "      <th></th>\n",
       "      <th></th>\n",
       "    </tr>\n",
       "  </thead>\n",
       "  <tbody>\n",
       "    <tr>\n",
       "      <th>2020-11-15 00:00:00</th>\n",
       "      <td>1.605398e+09</td>\n",
       "      <td>15916.88</td>\n",
       "      <td>15916.88</td>\n",
       "      <td>15901.71</td>\n",
       "      <td>15901.71</td>\n",
       "      <td>1.046218</td>\n",
       "    </tr>\n",
       "    <tr>\n",
       "      <th>2020-11-15 00:01:00</th>\n",
       "      <td>1.605398e+09</td>\n",
       "      <td>15906.77</td>\n",
       "      <td>15906.77</td>\n",
       "      <td>15895.00</td>\n",
       "      <td>15895.00</td>\n",
       "      <td>1.182469</td>\n",
       "    </tr>\n",
       "    <tr>\n",
       "      <th>2020-11-15 00:02:00</th>\n",
       "      <td>1.605399e+09</td>\n",
       "      <td>15900.36</td>\n",
       "      <td>15902.09</td>\n",
       "      <td>15893.84</td>\n",
       "      <td>15902.09</td>\n",
       "      <td>0.733027</td>\n",
       "    </tr>\n",
       "    <tr>\n",
       "      <th>2020-11-15 00:03:00</th>\n",
       "      <td>1.605399e+09</td>\n",
       "      <td>15900.09</td>\n",
       "      <td>15906.20</td>\n",
       "      <td>15900.09</td>\n",
       "      <td>15906.20</td>\n",
       "      <td>0.994389</td>\n",
       "    </tr>\n",
       "    <tr>\n",
       "      <th>2020-11-15 00:04:00</th>\n",
       "      <td>1.605399e+09</td>\n",
       "      <td>15900.00</td>\n",
       "      <td>15905.59</td>\n",
       "      <td>15898.38</td>\n",
       "      <td>15903.61</td>\n",
       "      <td>2.374064</td>\n",
       "    </tr>\n",
       "    <tr>\n",
       "      <th>...</th>\n",
       "      <td>...</td>\n",
       "      <td>...</td>\n",
       "      <td>...</td>\n",
       "      <td>...</td>\n",
       "      <td>...</td>\n",
       "      <td>...</td>\n",
       "    </tr>\n",
       "    <tr>\n",
       "      <th>2020-11-15 23:55:00</th>\n",
       "      <td>1.605484e+09</td>\n",
       "      <td>15917.97</td>\n",
       "      <td>15921.66</td>\n",
       "      <td>15917.97</td>\n",
       "      <td>15921.66</td>\n",
       "      <td>0.208800</td>\n",
       "    </tr>\n",
       "    <tr>\n",
       "      <th>2020-11-15 23:56:00</th>\n",
       "      <td>1.605485e+09</td>\n",
       "      <td>15912.50</td>\n",
       "      <td>15918.32</td>\n",
       "      <td>15909.98</td>\n",
       "      <td>15913.56</td>\n",
       "      <td>0.199135</td>\n",
       "    </tr>\n",
       "    <tr>\n",
       "      <th>2020-11-15 23:57:00</th>\n",
       "      <td>1.605485e+09</td>\n",
       "      <td>15917.78</td>\n",
       "      <td>15917.78</td>\n",
       "      <td>15917.78</td>\n",
       "      <td>15917.78</td>\n",
       "      <td>0.043529</td>\n",
       "    </tr>\n",
       "    <tr>\n",
       "      <th>2020-11-15 23:58:00</th>\n",
       "      <td>1.605485e+09</td>\n",
       "      <td>15914.79</td>\n",
       "      <td>15914.79</td>\n",
       "      <td>15908.04</td>\n",
       "      <td>15908.04</td>\n",
       "      <td>0.207144</td>\n",
       "    </tr>\n",
       "    <tr>\n",
       "      <th>2020-11-15 23:59:00</th>\n",
       "      <td>1.605485e+09</td>\n",
       "      <td>15924.49</td>\n",
       "      <td>15924.49</td>\n",
       "      <td>15917.45</td>\n",
       "      <td>15917.45</td>\n",
       "      <td>0.213033</td>\n",
       "    </tr>\n",
       "  </tbody>\n",
       "</table>\n",
       "<p>1440 rows × 6 columns</p>\n",
       "</div>"
      ],
      "text/plain": [
       "                        Timestamp      Open      High       Low     Close  \\\n",
       "Date                                                                        \n",
       "2020-11-15 00:00:00  1.605398e+09  15916.88  15916.88  15901.71  15901.71   \n",
       "2020-11-15 00:01:00  1.605398e+09  15906.77  15906.77  15895.00  15895.00   \n",
       "2020-11-15 00:02:00  1.605399e+09  15900.36  15902.09  15893.84  15902.09   \n",
       "2020-11-15 00:03:00  1.605399e+09  15900.09  15906.20  15900.09  15906.20   \n",
       "2020-11-15 00:04:00  1.605399e+09  15900.00  15905.59  15898.38  15903.61   \n",
       "...                           ...       ...       ...       ...       ...   \n",
       "2020-11-15 23:55:00  1.605484e+09  15917.97  15921.66  15917.97  15921.66   \n",
       "2020-11-15 23:56:00  1.605485e+09  15912.50  15918.32  15909.98  15913.56   \n",
       "2020-11-15 23:57:00  1.605485e+09  15917.78  15917.78  15917.78  15917.78   \n",
       "2020-11-15 23:58:00  1.605485e+09  15914.79  15914.79  15908.04  15908.04   \n",
       "2020-11-15 23:59:00  1.605485e+09  15924.49  15924.49  15917.45  15917.45   \n",
       "\n",
       "                       Volume  \n",
       "Date                           \n",
       "2020-11-15 00:00:00  1.046218  \n",
       "2020-11-15 00:01:00  1.182469  \n",
       "2020-11-15 00:02:00  0.733027  \n",
       "2020-11-15 00:03:00  0.994389  \n",
       "2020-11-15 00:04:00  2.374064  \n",
       "...                       ...  \n",
       "2020-11-15 23:55:00  0.208800  \n",
       "2020-11-15 23:56:00  0.199135  \n",
       "2020-11-15 23:57:00  0.043529  \n",
       "2020-11-15 23:58:00  0.207144  \n",
       "2020-11-15 23:59:00  0.213033  \n",
       "\n",
       "[1440 rows x 6 columns]"
      ]
     },
     "execution_count": 13,
     "metadata": {},
     "output_type": "execute_result"
    }
   ],
   "source": [
    "df.loc['2020-11-15']"
   ]
  },
  {
   "cell_type": "code",
   "execution_count": 14,
   "id": "cd2439d9",
   "metadata": {
    "execution": {
     "iopub.execute_input": "2025-07-02T10:57:03.130882Z",
     "iopub.status.busy": "2025-07-02T10:57:03.130343Z",
     "iopub.status.idle": "2025-07-02T10:57:03.134935Z",
     "shell.execute_reply": "2025-07-02T10:57:03.134057Z"
    },
    "papermill": {
     "duration": 0.011178,
     "end_time": "2025-07-02T10:57:03.136355",
     "exception": false,
     "start_time": "2025-07-02T10:57:03.125177",
     "status": "completed"
    },
    "tags": []
   },
   "outputs": [],
   "source": [
    "df.columns = df.columns.str.lower()"
   ]
  },
  {
   "cell_type": "markdown",
   "id": "58aae0bc",
   "metadata": {
    "papermill": {
     "duration": 0.004293,
     "end_time": "2025-07-02T10:57:03.145217",
     "exception": false,
     "start_time": "2025-07-02T10:57:03.140924",
     "status": "completed"
    },
    "tags": []
   },
   "source": [
    "# Data Exploration"
   ]
  },
  {
   "cell_type": "code",
   "execution_count": 15,
   "id": "7f2d7bd6",
   "metadata": {
    "collapsed": true,
    "execution": {
     "iopub.execute_input": "2025-07-02T10:57:03.156174Z",
     "iopub.status.busy": "2025-07-02T10:57:03.155204Z",
     "iopub.status.idle": "2025-07-02T10:57:03.464014Z",
     "shell.execute_reply": "2025-07-02T10:57:03.463063Z"
    },
    "jupyter": {
     "outputs_hidden": true
    },
    "papermill": {
     "duration": 0.315962,
     "end_time": "2025-07-02T10:57:03.465648",
     "exception": false,
     "start_time": "2025-07-02T10:57:03.149686",
     "status": "completed"
    },
    "tags": []
   },
   "outputs": [
    {
     "data": {
      "text/html": [
       "<div>\n",
       "<style scoped>\n",
       "    .dataframe tbody tr th:only-of-type {\n",
       "        vertical-align: middle;\n",
       "    }\n",
       "\n",
       "    .dataframe tbody tr th {\n",
       "        vertical-align: top;\n",
       "    }\n",
       "\n",
       "    .dataframe thead th {\n",
       "        text-align: right;\n",
       "    }\n",
       "</style>\n",
       "<table border=\"1\" class=\"dataframe\">\n",
       "  <thead>\n",
       "    <tr style=\"text-align: right;\">\n",
       "      <th></th>\n",
       "      <th>timestamp</th>\n",
       "      <th>open</th>\n",
       "      <th>high</th>\n",
       "      <th>low</th>\n",
       "      <th>close</th>\n",
       "      <th>volume</th>\n",
       "    </tr>\n",
       "    <tr>\n",
       "      <th>Date</th>\n",
       "      <th></th>\n",
       "      <th></th>\n",
       "      <th></th>\n",
       "      <th></th>\n",
       "      <th></th>\n",
       "      <th></th>\n",
       "    </tr>\n",
       "  </thead>\n",
       "  <tbody>\n",
       "    <tr>\n",
       "      <th>2015-01-31</th>\n",
       "      <td>1.421410e+09</td>\n",
       "      <td>251.016341</td>\n",
       "      <td>251.210397</td>\n",
       "      <td>250.813418</td>\n",
       "      <td>251.017518</td>\n",
       "      <td>17.481049</td>\n",
       "    </tr>\n",
       "    <tr>\n",
       "      <th>2015-02-28</th>\n",
       "      <td>1.423958e+09</td>\n",
       "      <td>233.876887</td>\n",
       "      <td>233.974918</td>\n",
       "      <td>233.772456</td>\n",
       "      <td>233.884845</td>\n",
       "      <td>8.722941</td>\n",
       "    </tr>\n",
       "    <tr>\n",
       "      <th>2015-03-31</th>\n",
       "      <td>1.426507e+09</td>\n",
       "      <td>268.439819</td>\n",
       "      <td>268.517325</td>\n",
       "      <td>268.352370</td>\n",
       "      <td>268.440615</td>\n",
       "      <td>6.661841</td>\n",
       "    </tr>\n",
       "    <tr>\n",
       "      <th>2015-04-30</th>\n",
       "      <td>1.429142e+09</td>\n",
       "      <td>234.752875</td>\n",
       "      <td>234.810995</td>\n",
       "      <td>234.692616</td>\n",
       "      <td>234.751606</td>\n",
       "      <td>5.896171</td>\n",
       "    </tr>\n",
       "    <tr>\n",
       "      <th>2015-05-31</th>\n",
       "      <td>1.431778e+09</td>\n",
       "      <td>236.648834</td>\n",
       "      <td>236.701549</td>\n",
       "      <td>236.591383</td>\n",
       "      <td>236.644265</td>\n",
       "      <td>4.509684</td>\n",
       "    </tr>\n",
       "    <tr>\n",
       "      <th>...</th>\n",
       "      <td>...</td>\n",
       "      <td>...</td>\n",
       "      <td>...</td>\n",
       "      <td>...</td>\n",
       "      <td>...</td>\n",
       "      <td>...</td>\n",
       "    </tr>\n",
       "    <tr>\n",
       "      <th>2025-03-31</th>\n",
       "      <td>1.742129e+09</td>\n",
       "      <td>85044.141421</td>\n",
       "      <td>85071.599241</td>\n",
       "      <td>85016.624425</td>\n",
       "      <td>85044.007360</td>\n",
       "      <td>1.233456</td>\n",
       "    </tr>\n",
       "    <tr>\n",
       "      <th>2025-04-30</th>\n",
       "      <td>1.744762e+09</td>\n",
       "      <td>86333.273634</td>\n",
       "      <td>86355.798889</td>\n",
       "      <td>86308.529745</td>\n",
       "      <td>86331.166042</td>\n",
       "      <td>1.137700</td>\n",
       "    </tr>\n",
       "    <tr>\n",
       "      <th>2025-05-31</th>\n",
       "      <td>1.747397e+09</td>\n",
       "      <td>103376.919400</td>\n",
       "      <td>103396.772648</td>\n",
       "      <td>103356.319108</td>\n",
       "      <td>103376.595139</td>\n",
       "      <td>0.822993</td>\n",
       "    </tr>\n",
       "    <tr>\n",
       "      <th>2025-06-30</th>\n",
       "      <td>1.750032e+09</td>\n",
       "      <td>105726.668565</td>\n",
       "      <td>105744.717083</td>\n",
       "      <td>105709.499167</td>\n",
       "      <td>105727.283056</td>\n",
       "      <td>0.636200</td>\n",
       "    </tr>\n",
       "    <tr>\n",
       "      <th>2025-07-31</th>\n",
       "      <td>1.751373e+09</td>\n",
       "      <td>106481.900604</td>\n",
       "      <td>106495.042982</td>\n",
       "      <td>106466.347213</td>\n",
       "      <td>106479.529214</td>\n",
       "      <td>0.634783</td>\n",
       "    </tr>\n",
       "  </tbody>\n",
       "</table>\n",
       "<p>127 rows × 6 columns</p>\n",
       "</div>"
      ],
      "text/plain": [
       "               timestamp           open           high            low  \\\n",
       "Date                                                                    \n",
       "2015-01-31  1.421410e+09     251.016341     251.210397     250.813418   \n",
       "2015-02-28  1.423958e+09     233.876887     233.974918     233.772456   \n",
       "2015-03-31  1.426507e+09     268.439819     268.517325     268.352370   \n",
       "2015-04-30  1.429142e+09     234.752875     234.810995     234.692616   \n",
       "2015-05-31  1.431778e+09     236.648834     236.701549     236.591383   \n",
       "...                  ...            ...            ...            ...   \n",
       "2025-03-31  1.742129e+09   85044.141421   85071.599241   85016.624425   \n",
       "2025-04-30  1.744762e+09   86333.273634   86355.798889   86308.529745   \n",
       "2025-05-31  1.747397e+09  103376.919400  103396.772648  103356.319108   \n",
       "2025-06-30  1.750032e+09  105726.668565  105744.717083  105709.499167   \n",
       "2025-07-31  1.751373e+09  106481.900604  106495.042982  106466.347213   \n",
       "\n",
       "                    close     volume  \n",
       "Date                                  \n",
       "2015-01-31     251.017518  17.481049  \n",
       "2015-02-28     233.884845   8.722941  \n",
       "2015-03-31     268.440615   6.661841  \n",
       "2015-04-30     234.751606   5.896171  \n",
       "2015-05-31     236.644265   4.509684  \n",
       "...                   ...        ...  \n",
       "2025-03-31   85044.007360   1.233456  \n",
       "2025-04-30   86331.166042   1.137700  \n",
       "2025-05-31  103376.595139   0.822993  \n",
       "2025-06-30  105727.283056   0.636200  \n",
       "2025-07-31  106479.529214   0.634783  \n",
       "\n",
       "[127 rows x 6 columns]"
      ]
     },
     "execution_count": 15,
     "metadata": {},
     "output_type": "execute_result"
    }
   ],
   "source": [
    "# resampling to monthly/yearly/weekly frequency and calc the mean closing price\n",
    "df.resample('M').mean() # or Y, W"
   ]
  },
  {
   "cell_type": "code",
   "execution_count": 16,
   "id": "433527c2",
   "metadata": {
    "execution": {
     "iopub.execute_input": "2025-07-02T10:57:03.476854Z",
     "iopub.status.busy": "2025-07-02T10:57:03.476189Z",
     "iopub.status.idle": "2025-07-02T10:57:05.323960Z",
     "shell.execute_reply": "2025-07-02T10:57:05.323115Z"
    },
    "papermill": {
     "duration": 1.855348,
     "end_time": "2025-07-02T10:57:05.325909",
     "exception": false,
     "start_time": "2025-07-02T10:57:03.470561",
     "status": "completed"
    },
    "tags": []
   },
   "outputs": [
    {
     "data": {
      "image/png": "[encoded data removed]",
      "text/plain": [
       "<Figure size 640x480 with 1 Axes>"
      ]
     },
     "metadata": {},
     "output_type": "display_data"
    }
   ],
   "source": [
    "# 7-day rolling average (doing for 1000)\n",
    "df['7_day_rolling'] = df['close'].rolling(window = 1000).mean()\n",
    "df[['close', '7_day_rolling']].loc['2025'].plot()\n",
    "plt.show()"
   ]
  },
  {
   "cell_type": "code",
   "execution_count": 17,
   "id": "abd67788",
   "metadata": {
    "execution": {
     "iopub.execute_input": "2025-07-02T10:57:05.338807Z",
     "iopub.status.busy": "2025-07-02T10:57:05.338503Z",
     "iopub.status.idle": "2025-07-02T10:57:05.834363Z",
     "shell.execute_reply": "2025-07-02T10:57:05.833401Z"
    },
    "papermill": {
     "duration": 0.50397,
     "end_time": "2025-07-02T10:57:05.835868",
     "exception": false,
     "start_time": "2025-07-02T10:57:05.331898",
     "status": "completed"
    },
    "tags": []
   },
   "outputs": [
    {
     "data": {
      "text/plain": [
       "Timestamp('2025-07-31 00:00:00')"
      ]
     },
     "execution_count": 17,
     "metadata": {},
     "output_type": "execute_result"
    }
   ],
   "source": [
    "# find out the highest average month\n",
    "# resample -> Convenience method for frequency conversion and resampling of time series\n",
    "df.resample('M').mean()['close'].idxmax()"
   ]
  },
  {
   "cell_type": "code",
   "execution_count": 18,
   "id": "70b9d040",
   "metadata": {
    "execution": {
     "iopub.execute_input": "2025-07-02T10:57:05.849494Z",
     "iopub.status.busy": "2025-07-02T10:57:05.849133Z",
     "iopub.status.idle": "2025-07-02T10:57:05.853498Z",
     "shell.execute_reply": "2025-07-02T10:57:05.852578Z"
    },
    "papermill": {
     "duration": 0.013122,
     "end_time": "2025-07-02T10:57:05.855131",
     "exception": false,
     "start_time": "2025-07-02T10:57:05.842009",
     "status": "completed"
    },
    "tags": []
   },
   "outputs": [],
   "source": [
    "# calculate daily returns\n"
   ]
  }
 ],
 "metadata": {
  "kaggle": {
   "accelerator": "none",
   "dataSources": [
    {
     "datasetId": 1346,
     "sourceId": 12345568,
     "sourceType": "datasetVersion"
    }
   ],
   "dockerImageVersionId": 31040,
   "isGpuEnabled": false,
   "isInternetEnabled": false,
   "language": "python",
   "sourceType": "notebook"
  },
  "kernelspec": {
   "display_name": "Python 3",
   "language": "python",
   "name": "python3"
  },
  "language_info": {
   "codemirror_mode": {
    "name": "ipython",
    "version": 3
   },
   "file_extension": ".py",
   "mimetype": "text/x-python",
   "name": "python",
   "nbconvert_exporter": "python",
   "pygments_lexer": "ipython3",
   "version": "3.11.11"
  },
  "papermill": {
   "default_parameters": {},
   "duration": 23.330537,
   "end_time": "2025-07-02T10:57:06.480909",
   "environment_variables": {},
   "exception": null,
   "input_path": "__notebook__.ipynb",
   "output_path": "__notebook__.ipynb",
   "parameters": {},
   "start_time": "2025-07-02T10:56:43.150372",
   "version": "2.6.0"
  }
 },
 "nbformat": 4,
 "nbformat_minor": 5
}
