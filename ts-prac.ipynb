{
 "cells": [
  {
   "cell_type": "code",
   "execution_count": 1,
   "id": "4b3e0d41",
   "metadata": {
    "_cell_guid": "b1076dfc-b9ad-4769-8c92-a6c4dae69d19",
    "_uuid": "8f2839f25d086af736a60e9eeb907d3b93b6e0e5",
    "execution": {
     "iopub.execute_input": "2025-07-02T14:34:04.949382Z",
     "iopub.status.busy": "2025-07-02T14:34:04.948912Z",
     "iopub.status.idle": "2025-07-02T14:34:04.967111Z",
     "shell.execute_reply": "2025-07-02T14:34:04.966163Z"
    },
    "papermill": {
     "duration": 0.028938,
     "end_time": "2025-07-02T14:34:04.969157",
     "exception": false,
     "start_time": "2025-07-02T14:34:04.940219",
     "status": "completed"
    },
    "tags": []
   },
   "outputs": [
    {
     "name": "stdout",
     "output_type": "stream",
     "text": [
      "/kaggle/input/bitcoin-historical-data/btcusd_1-min_data.csv\n"
     ]
    }
   ],
   "source": [
    "import os\n",
    "for dirname, _, filenames in os.walk('/kaggle/input'):\n",
    "    for filename in filenames:\n",
    "        print(os.path.join(dirname, filename))"
   ]
  },
  {
   "cell_type": "code",
   "execution_count": 2,
   "id": "6d276f22",
   "metadata": {
    "execution": {
     "iopub.execute_input": "2025-07-02T14:34:04.982408Z",
     "iopub.status.busy": "2025-07-02T14:34:04.981961Z",
     "iopub.status.idle": "2025-07-02T14:34:07.000585Z",
     "shell.execute_reply": "2025-07-02T14:34:06.999363Z"
    },
    "papermill": {
     "duration": 2.027362,
     "end_time": "2025-07-02T14:34:07.002533",
     "exception": false,
     "start_time": "2025-07-02T14:34:04.975171",
     "status": "completed"
    },
    "tags": []
   },
   "outputs": [],
   "source": [
    "import numpy as np \n",
    "import pandas as pd \n",
    "import matplotlib.pyplot as plt"
   ]
  },
  {
   "cell_type": "code",
   "execution_count": 3,
   "id": "43c07330",
   "metadata": {
    "execution": {
     "iopub.execute_input": "2025-07-02T14:34:07.015789Z",
     "iopub.status.busy": "2025-07-02T14:34:07.015324Z",
     "iopub.status.idle": "2025-07-02T14:34:07.020125Z",
     "shell.execute_reply": "2025-07-02T14:34:07.019027Z"
    },
    "papermill": {
     "duration": 0.013465,
     "end_time": "2025-07-02T14:34:07.021784",
     "exception": false,
     "start_time": "2025-07-02T14:34:07.008319",
     "status": "completed"
    },
    "tags": []
   },
   "outputs": [],
   "source": [
    "import warnings \n",
    "warnings.filterwarnings('ignore')"
   ]
  },
  {
   "cell_type": "code",
   "execution_count": 4,
   "id": "c0478347",
   "metadata": {
    "execution": {
     "iopub.execute_input": "2025-07-02T14:34:07.033718Z",
     "iopub.status.busy": "2025-07-02T14:34:07.033381Z",
     "iopub.status.idle": "2025-07-02T14:34:15.301957Z",
     "shell.execute_reply": "2025-07-02T14:34:15.301140Z"
    },
    "papermill": {
     "duration": 8.276535,
     "end_time": "2025-07-02T14:34:15.303750",
     "exception": false,
     "start_time": "2025-07-02T14:34:07.027215",
     "status": "completed"
    },
    "tags": []
   },
   "outputs": [],
   "source": [
    "df = pd.read_csv('/kaggle/input/bitcoin-historical-data/btcusd_1-min_data.csv')"
   ]
  },
  {
   "cell_type": "markdown",
   "id": "f7474a3b",
   "metadata": {
    "papermill": {
     "duration": 0.004784,
     "end_time": "2025-07-02T14:34:15.313992",
     "exception": false,
     "start_time": "2025-07-02T14:34:15.309208",
     "status": "completed"
    },
    "tags": []
   },
   "source": [
    "# Data Cleaning"
   ]
  },
  {
   "cell_type": "code",
   "execution_count": 5,
   "id": "66cbc8fe",
   "metadata": {
    "collapsed": true,
    "execution": {
     "iopub.execute_input": "2025-07-02T14:34:15.325687Z",
     "iopub.status.busy": "2025-07-02T14:34:15.325339Z",
     "iopub.status.idle": "2025-07-02T14:34:15.355037Z",
     "shell.execute_reply": "2025-07-02T14:34:15.354146Z"
    },
    "jupyter": {
     "outputs_hidden": true
    },
    "papermill": {
     "duration": 0.037592,
     "end_time": "2025-07-02T14:34:15.356805",
     "exception": false,
     "start_time": "2025-07-02T14:34:15.319213",
     "status": "completed"
    },
    "tags": []
   },
   "outputs": [
    {
     "data": {
      "text/html": [
       "<div>\n",
       "<style scoped>\n",
       "    .dataframe tbody tr th:only-of-type {\n",
       "        vertical-align: middle;\n",
       "    }\n",
       "\n",
       "    .dataframe tbody tr th {\n",
       "        vertical-align: top;\n",
       "    }\n",
       "\n",
       "    .dataframe thead th {\n",
       "        text-align: right;\n",
       "    }\n",
       "</style>\n",
       "<table border=\"1\" class=\"dataframe\">\n",
       "  <thead>\n",
       "    <tr style=\"text-align: right;\">\n",
       "      <th></th>\n",
       "      <th>Timestamp</th>\n",
       "      <th>Open</th>\n",
       "      <th>High</th>\n",
       "      <th>Low</th>\n",
       "      <th>Close</th>\n",
       "      <th>Volume</th>\n",
       "    </tr>\n",
       "  </thead>\n",
       "  <tbody>\n",
       "    <tr>\n",
       "      <th>0</th>\n",
       "      <td>1.325412e+09</td>\n",
       "      <td>4.58</td>\n",
       "      <td>4.58</td>\n",
       "      <td>4.58</td>\n",
       "      <td>4.58</td>\n",
       "      <td>0.0</td>\n",
       "    </tr>\n",
       "    <tr>\n",
       "      <th>1</th>\n",
       "      <td>1.325412e+09</td>\n",
       "      <td>4.58</td>\n",
       "      <td>4.58</td>\n",
       "      <td>4.58</td>\n",
       "      <td>4.58</td>\n",
       "      <td>0.0</td>\n",
       "    </tr>\n",
       "    <tr>\n",
       "      <th>2</th>\n",
       "      <td>1.325412e+09</td>\n",
       "      <td>4.58</td>\n",
       "      <td>4.58</td>\n",
       "      <td>4.58</td>\n",
       "      <td>4.58</td>\n",
       "      <td>0.0</td>\n",
       "    </tr>\n",
       "    <tr>\n",
       "      <th>3</th>\n",
       "      <td>1.325412e+09</td>\n",
       "      <td>4.58</td>\n",
       "      <td>4.58</td>\n",
       "      <td>4.58</td>\n",
       "      <td>4.58</td>\n",
       "      <td>0.0</td>\n",
       "    </tr>\n",
       "    <tr>\n",
       "      <th>4</th>\n",
       "      <td>1.325412e+09</td>\n",
       "      <td>4.58</td>\n",
       "      <td>4.58</td>\n",
       "      <td>4.58</td>\n",
       "      <td>4.58</td>\n",
       "      <td>0.0</td>\n",
       "    </tr>\n",
       "  </tbody>\n",
       "</table>\n",
       "</div>"
      ],
      "text/plain": [
       "      Timestamp  Open  High   Low  Close  Volume\n",
       "0  1.325412e+09  4.58  4.58  4.58   4.58     0.0\n",
       "1  1.325412e+09  4.58  4.58  4.58   4.58     0.0\n",
       "2  1.325412e+09  4.58  4.58  4.58   4.58     0.0\n",
       "3  1.325412e+09  4.58  4.58  4.58   4.58     0.0\n",
       "4  1.325412e+09  4.58  4.58  4.58   4.58     0.0"
      ]
     },
     "execution_count": 5,
     "metadata": {},
     "output_type": "execute_result"
    }
   ],
   "source": [
    "df.head()"
   ]
  },
  {
   "cell_type": "code",
   "execution_count": 6,
   "id": "16a94d1c",
   "metadata": {
    "execution": {
     "iopub.execute_input": "2025-07-02T14:34:15.369077Z",
     "iopub.status.busy": "2025-07-02T14:34:15.368626Z",
     "iopub.status.idle": "2025-07-02T14:34:15.374954Z",
     "shell.execute_reply": "2025-07-02T14:34:15.373977Z"
    },
    "papermill": {
     "duration": 0.014069,
     "end_time": "2025-07-02T14:34:15.376412",
     "exception": false,
     "start_time": "2025-07-02T14:34:15.362343",
     "status": "completed"
    },
    "tags": []
   },
   "outputs": [
    {
     "data": {
      "text/plain": [
       "(7098928, 6)"
      ]
     },
     "execution_count": 6,
     "metadata": {},
     "output_type": "execute_result"
    }
   ],
   "source": [
    "df.shape"
   ]
  },
  {
   "cell_type": "code",
   "execution_count": 7,
   "id": "14fc14af",
   "metadata": {
    "collapsed": true,
    "execution": {
     "iopub.execute_input": "2025-07-02T14:34:15.389689Z",
     "iopub.status.busy": "2025-07-02T14:34:15.389340Z",
     "iopub.status.idle": "2025-07-02T14:34:15.419268Z",
     "shell.execute_reply": "2025-07-02T14:34:15.418112Z"
    },
    "jupyter": {
     "outputs_hidden": true
    },
    "papermill": {
     "duration": 0.038579,
     "end_time": "2025-07-02T14:34:15.421095",
     "exception": false,
     "start_time": "2025-07-02T14:34:15.382516",
     "status": "completed"
    },
    "tags": []
   },
   "outputs": [
    {
     "name": "stdout",
     "output_type": "stream",
     "text": [
      "<class 'pandas.core.frame.DataFrame'>\n",
      "RangeIndex: 7098928 entries, 0 to 7098927\n",
      "Data columns (total 6 columns):\n",
      " #   Column     Dtype  \n",
      "---  ------     -----  \n",
      " 0   Timestamp  float64\n",
      " 1   Open       float64\n",
      " 2   High       float64\n",
      " 3   Low        float64\n",
      " 4   Close      float64\n",
      " 5   Volume     float64\n",
      "dtypes: float64(6)\n",
      "memory usage: 325.0 MB\n"
     ]
    }
   ],
   "source": [
    "df.info()"
   ]
  },
  {
   "cell_type": "code",
   "execution_count": 8,
   "id": "e37eb454",
   "metadata": {
    "execution": {
     "iopub.execute_input": "2025-07-02T14:34:15.434368Z",
     "iopub.status.busy": "2025-07-02T14:34:15.433985Z",
     "iopub.status.idle": "2025-07-02T14:34:19.138145Z",
     "shell.execute_reply": "2025-07-02T14:34:19.136993Z"
    },
    "papermill": {
     "duration": 3.712628,
     "end_time": "2025-07-02T14:34:19.139839",
     "exception": false,
     "start_time": "2025-07-02T14:34:15.427211",
     "status": "completed"
    },
    "tags": []
   },
   "outputs": [],
   "source": [
    "df['Date']= pd.to_datetime(df['Timestamp'], unit='s')"
   ]
  },
  {
   "cell_type": "code",
   "execution_count": 9,
   "id": "403476d3",
   "metadata": {
    "collapsed": true,
    "execution": {
     "iopub.execute_input": "2025-07-02T14:34:19.153172Z",
     "iopub.status.busy": "2025-07-02T14:34:19.152029Z",
     "iopub.status.idle": "2025-07-02T14:34:19.165903Z",
     "shell.execute_reply": "2025-07-02T14:34:19.164950Z"
    },
    "jupyter": {
     "outputs_hidden": true
    },
    "papermill": {
     "duration": 0.02173,
     "end_time": "2025-07-02T14:34:19.167403",
     "exception": false,
     "start_time": "2025-07-02T14:34:19.145673",
     "status": "completed"
    },
    "tags": []
   },
   "outputs": [
    {
     "data": {
      "text/html": [
       "<div>\n",
       "<style scoped>\n",
       "    .dataframe tbody tr th:only-of-type {\n",
       "        vertical-align: middle;\n",
       "    }\n",
       "\n",
       "    .dataframe tbody tr th {\n",
       "        vertical-align: top;\n",
       "    }\n",
       "\n",
       "    .dataframe thead th {\n",
       "        text-align: right;\n",
       "    }\n",
       "</style>\n",
       "<table border=\"1\" class=\"dataframe\">\n",
       "  <thead>\n",
       "    <tr style=\"text-align: right;\">\n",
       "      <th></th>\n",
       "      <th>Timestamp</th>\n",
       "      <th>Open</th>\n",
       "      <th>High</th>\n",
       "      <th>Low</th>\n",
       "      <th>Close</th>\n",
       "      <th>Volume</th>\n",
       "      <th>Date</th>\n",
       "    </tr>\n",
       "  </thead>\n",
       "  <tbody>\n",
       "    <tr>\n",
       "      <th>0</th>\n",
       "      <td>1.325412e+09</td>\n",
       "      <td>4.58</td>\n",
       "      <td>4.58</td>\n",
       "      <td>4.58</td>\n",
       "      <td>4.58</td>\n",
       "      <td>0.0</td>\n",
       "      <td>2012-01-01 10:01:00</td>\n",
       "    </tr>\n",
       "    <tr>\n",
       "      <th>1</th>\n",
       "      <td>1.325412e+09</td>\n",
       "      <td>4.58</td>\n",
       "      <td>4.58</td>\n",
       "      <td>4.58</td>\n",
       "      <td>4.58</td>\n",
       "      <td>0.0</td>\n",
       "      <td>2012-01-01 10:02:00</td>\n",
       "    </tr>\n",
       "    <tr>\n",
       "      <th>2</th>\n",
       "      <td>1.325412e+09</td>\n",
       "      <td>4.58</td>\n",
       "      <td>4.58</td>\n",
       "      <td>4.58</td>\n",
       "      <td>4.58</td>\n",
       "      <td>0.0</td>\n",
       "      <td>2012-01-01 10:03:00</td>\n",
       "    </tr>\n",
       "    <tr>\n",
       "      <th>3</th>\n",
       "      <td>1.325412e+09</td>\n",
       "      <td>4.58</td>\n",
       "      <td>4.58</td>\n",
       "      <td>4.58</td>\n",
       "      <td>4.58</td>\n",
       "      <td>0.0</td>\n",
       "      <td>2012-01-01 10:04:00</td>\n",
       "    </tr>\n",
       "    <tr>\n",
       "      <th>4</th>\n",
       "      <td>1.325412e+09</td>\n",
       "      <td>4.58</td>\n",
       "      <td>4.58</td>\n",
       "      <td>4.58</td>\n",
       "      <td>4.58</td>\n",
       "      <td>0.0</td>\n",
       "      <td>2012-01-01 10:05:00</td>\n",
       "    </tr>\n",
       "  </tbody>\n",
       "</table>\n",
       "</div>"
      ],
      "text/plain": [
       "      Timestamp  Open  High   Low  Close  Volume                Date\n",
       "0  1.325412e+09  4.58  4.58  4.58   4.58     0.0 2012-01-01 10:01:00\n",
       "1  1.325412e+09  4.58  4.58  4.58   4.58     0.0 2012-01-01 10:02:00\n",
       "2  1.325412e+09  4.58  4.58  4.58   4.58     0.0 2012-01-01 10:03:00\n",
       "3  1.325412e+09  4.58  4.58  4.58   4.58     0.0 2012-01-01 10:04:00\n",
       "4  1.325412e+09  4.58  4.58  4.58   4.58     0.0 2012-01-01 10:05:00"
      ]
     },
     "execution_count": 9,
     "metadata": {},
     "output_type": "execute_result"
    }
   ],
   "source": [
    "df.head()"
   ]
  },
  {
   "cell_type": "code",
   "execution_count": 10,
   "id": "3ebcaca3",
   "metadata": {
    "execution": {
     "iopub.execute_input": "2025-07-02T14:34:19.181524Z",
     "iopub.status.busy": "2025-07-02T14:34:19.181214Z",
     "iopub.status.idle": "2025-07-02T14:34:19.646030Z",
     "shell.execute_reply": "2025-07-02T14:34:19.644997Z"
    },
    "papermill": {
     "duration": 0.47325,
     "end_time": "2025-07-02T14:34:19.647899",
     "exception": false,
     "start_time": "2025-07-02T14:34:19.174649",
     "status": "completed"
    },
    "tags": []
   },
   "outputs": [],
   "source": [
    "df = df[~df['Date'].dt.year.isin([2012, 2013, 2014])]\n",
    "# or df = df[(df['year'] >= 2015) & (df['year'] <= 2025)]"
   ]
  },
  {
   "cell_type": "code",
   "execution_count": 11,
   "id": "76fbe9f1",
   "metadata": {
    "execution": {
     "iopub.execute_input": "2025-07-02T14:34:19.660744Z",
     "iopub.status.busy": "2025-07-02T14:34:19.660444Z",
     "iopub.status.idle": "2025-07-02T14:34:19.666156Z",
     "shell.execute_reply": "2025-07-02T14:34:19.665382Z"
    },
    "papermill": {
     "duration": 0.013773,
     "end_time": "2025-07-02T14:34:19.667424",
     "exception": false,
     "start_time": "2025-07-02T14:34:19.653651",
     "status": "completed"
    },
    "tags": []
   },
   "outputs": [],
   "source": [
    "df.set_index('Date', inplace=True)"
   ]
  },
  {
   "cell_type": "code",
   "execution_count": 12,
   "id": "cc9a913e",
   "metadata": {
    "collapsed": true,
    "execution": {
     "iopub.execute_input": "2025-07-02T14:34:19.679818Z",
     "iopub.status.busy": "2025-07-02T14:34:19.679451Z",
     "iopub.status.idle": "2025-07-02T14:34:19.691733Z",
     "shell.execute_reply": "2025-07-02T14:34:19.690986Z"
    },
    "jupyter": {
     "outputs_hidden": true
    },
    "papermill": {
     "duration": 0.019838,
     "end_time": "2025-07-02T14:34:19.692947",
     "exception": false,
     "start_time": "2025-07-02T14:34:19.673109",
     "status": "completed"
    },
    "tags": []
   },
   "outputs": [
    {
     "data": {
      "text/html": [
       "<div>\n",
       "<style scoped>\n",
       "    .dataframe tbody tr th:only-of-type {\n",
       "        vertical-align: middle;\n",
       "    }\n",
       "\n",
       "    .dataframe tbody tr th {\n",
       "        vertical-align: top;\n",
       "    }\n",
       "\n",
       "    .dataframe thead th {\n",
       "        text-align: right;\n",
       "    }\n",
       "</style>\n",
       "<table border=\"1\" class=\"dataframe\">\n",
       "  <thead>\n",
       "    <tr style=\"text-align: right;\">\n",
       "      <th></th>\n",
       "      <th>Timestamp</th>\n",
       "      <th>Open</th>\n",
       "      <th>High</th>\n",
       "      <th>Low</th>\n",
       "      <th>Close</th>\n",
       "      <th>Volume</th>\n",
       "    </tr>\n",
       "    <tr>\n",
       "      <th>Date</th>\n",
       "      <th></th>\n",
       "      <th></th>\n",
       "      <th></th>\n",
       "      <th></th>\n",
       "      <th></th>\n",
       "      <th></th>\n",
       "    </tr>\n",
       "  </thead>\n",
       "  <tbody>\n",
       "    <tr>\n",
       "      <th>2015-01-01 00:00:00</th>\n",
       "      <td>1.420070e+09</td>\n",
       "      <td>316.67</td>\n",
       "      <td>316.67</td>\n",
       "      <td>316.67</td>\n",
       "      <td>316.67</td>\n",
       "      <td>1.336312</td>\n",
       "    </tr>\n",
       "    <tr>\n",
       "      <th>2015-01-01 00:01:00</th>\n",
       "      <td>1.420070e+09</td>\n",
       "      <td>316.38</td>\n",
       "      <td>316.38</td>\n",
       "      <td>316.30</td>\n",
       "      <td>316.30</td>\n",
       "      <td>3.000000</td>\n",
       "    </tr>\n",
       "    <tr>\n",
       "      <th>2015-01-01 00:02:00</th>\n",
       "      <td>1.420071e+09</td>\n",
       "      <td>316.30</td>\n",
       "      <td>316.30</td>\n",
       "      <td>316.30</td>\n",
       "      <td>316.30</td>\n",
       "      <td>0.000000</td>\n",
       "    </tr>\n",
       "    <tr>\n",
       "      <th>2015-01-01 00:03:00</th>\n",
       "      <td>1.420071e+09</td>\n",
       "      <td>316.30</td>\n",
       "      <td>316.30</td>\n",
       "      <td>316.30</td>\n",
       "      <td>316.30</td>\n",
       "      <td>0.000000</td>\n",
       "    </tr>\n",
       "    <tr>\n",
       "      <th>2015-01-01 00:04:00</th>\n",
       "      <td>1.420071e+09</td>\n",
       "      <td>316.23</td>\n",
       "      <td>316.88</td>\n",
       "      <td>316.20</td>\n",
       "      <td>316.88</td>\n",
       "      <td>4.077000</td>\n",
       "    </tr>\n",
       "  </tbody>\n",
       "</table>\n",
       "</div>"
      ],
      "text/plain": [
       "                        Timestamp    Open    High     Low   Close    Volume\n",
       "Date                                                                       \n",
       "2015-01-01 00:00:00  1.420070e+09  316.67  316.67  316.67  316.67  1.336312\n",
       "2015-01-01 00:01:00  1.420070e+09  316.38  316.38  316.30  316.30  3.000000\n",
       "2015-01-01 00:02:00  1.420071e+09  316.30  316.30  316.30  316.30  0.000000\n",
       "2015-01-01 00:03:00  1.420071e+09  316.30  316.30  316.30  316.30  0.000000\n",
       "2015-01-01 00:04:00  1.420071e+09  316.23  316.88  316.20  316.88  4.077000"
      ]
     },
     "execution_count": 12,
     "metadata": {},
     "output_type": "execute_result"
    }
   ],
   "source": [
    "df.head()"
   ]
  },
  {
   "cell_type": "code",
   "execution_count": 13,
   "id": "9c99d127",
   "metadata": {
    "collapsed": true,
    "execution": {
     "iopub.execute_input": "2025-07-02T14:34:19.706210Z",
     "iopub.status.busy": "2025-07-02T14:34:19.705879Z",
     "iopub.status.idle": "2025-07-02T14:34:20.090342Z",
     "shell.execute_reply": "2025-07-02T14:34:20.089109Z"
    },
    "jupyter": {
     "outputs_hidden": true
    },
    "papermill": {
     "duration": 0.393053,
     "end_time": "2025-07-02T14:34:20.091868",
     "exception": false,
     "start_time": "2025-07-02T14:34:19.698815",
     "status": "completed"
    },
    "tags": []
   },
   "outputs": [
    {
     "data": {
      "text/html": [
       "<div>\n",
       "<style scoped>\n",
       "    .dataframe tbody tr th:only-of-type {\n",
       "        vertical-align: middle;\n",
       "    }\n",
       "\n",
       "    .dataframe tbody tr th {\n",
       "        vertical-align: top;\n",
       "    }\n",
       "\n",
       "    .dataframe thead th {\n",
       "        text-align: right;\n",
       "    }\n",
       "</style>\n",
       "<table border=\"1\" class=\"dataframe\">\n",
       "  <thead>\n",
       "    <tr style=\"text-align: right;\">\n",
       "      <th></th>\n",
       "      <th>Timestamp</th>\n",
       "      <th>Open</th>\n",
       "      <th>High</th>\n",
       "      <th>Low</th>\n",
       "      <th>Close</th>\n",
       "      <th>Volume</th>\n",
       "    </tr>\n",
       "    <tr>\n",
       "      <th>Date</th>\n",
       "      <th></th>\n",
       "      <th></th>\n",
       "      <th></th>\n",
       "      <th></th>\n",
       "      <th></th>\n",
       "      <th></th>\n",
       "    </tr>\n",
       "  </thead>\n",
       "  <tbody>\n",
       "    <tr>\n",
       "      <th>2020-11-15 00:00:00</th>\n",
       "      <td>1.605398e+09</td>\n",
       "      <td>15916.88</td>\n",
       "      <td>15916.88</td>\n",
       "      <td>15901.71</td>\n",
       "      <td>15901.71</td>\n",
       "      <td>1.046218</td>\n",
       "    </tr>\n",
       "    <tr>\n",
       "      <th>2020-11-15 00:01:00</th>\n",
       "      <td>1.605398e+09</td>\n",
       "      <td>15906.77</td>\n",
       "      <td>15906.77</td>\n",
       "      <td>15895.00</td>\n",
       "      <td>15895.00</td>\n",
       "      <td>1.182469</td>\n",
       "    </tr>\n",
       "    <tr>\n",
       "      <th>2020-11-15 00:02:00</th>\n",
       "      <td>1.605399e+09</td>\n",
       "      <td>15900.36</td>\n",
       "      <td>15902.09</td>\n",
       "      <td>15893.84</td>\n",
       "      <td>15902.09</td>\n",
       "      <td>0.733027</td>\n",
       "    </tr>\n",
       "    <tr>\n",
       "      <th>2020-11-15 00:03:00</th>\n",
       "      <td>1.605399e+09</td>\n",
       "      <td>15900.09</td>\n",
       "      <td>15906.20</td>\n",
       "      <td>15900.09</td>\n",
       "      <td>15906.20</td>\n",
       "      <td>0.994389</td>\n",
       "    </tr>\n",
       "    <tr>\n",
       "      <th>2020-11-15 00:04:00</th>\n",
       "      <td>1.605399e+09</td>\n",
       "      <td>15900.00</td>\n",
       "      <td>15905.59</td>\n",
       "      <td>15898.38</td>\n",
       "      <td>15903.61</td>\n",
       "      <td>2.374064</td>\n",
       "    </tr>\n",
       "    <tr>\n",
       "      <th>...</th>\n",
       "      <td>...</td>\n",
       "      <td>...</td>\n",
       "      <td>...</td>\n",
       "      <td>...</td>\n",
       "      <td>...</td>\n",
       "      <td>...</td>\n",
       "    </tr>\n",
       "    <tr>\n",
       "      <th>2020-11-15 23:55:00</th>\n",
       "      <td>1.605484e+09</td>\n",
       "      <td>15917.97</td>\n",
       "      <td>15921.66</td>\n",
       "      <td>15917.97</td>\n",
       "      <td>15921.66</td>\n",
       "      <td>0.208800</td>\n",
       "    </tr>\n",
       "    <tr>\n",
       "      <th>2020-11-15 23:56:00</th>\n",
       "      <td>1.605485e+09</td>\n",
       "      <td>15912.50</td>\n",
       "      <td>15918.32</td>\n",
       "      <td>15909.98</td>\n",
       "      <td>15913.56</td>\n",
       "      <td>0.199135</td>\n",
       "    </tr>\n",
       "    <tr>\n",
       "      <th>2020-11-15 23:57:00</th>\n",
       "      <td>1.605485e+09</td>\n",
       "      <td>15917.78</td>\n",
       "      <td>15917.78</td>\n",
       "      <td>15917.78</td>\n",
       "      <td>15917.78</td>\n",
       "      <td>0.043529</td>\n",
       "    </tr>\n",
       "    <tr>\n",
       "      <th>2020-11-15 23:58:00</th>\n",
       "      <td>1.605485e+09</td>\n",
       "      <td>15914.79</td>\n",
       "      <td>15914.79</td>\n",
       "      <td>15908.04</td>\n",
       "      <td>15908.04</td>\n",
       "      <td>0.207144</td>\n",
       "    </tr>\n",
       "    <tr>\n",
       "      <th>2020-11-15 23:59:00</th>\n",
       "      <td>1.605485e+09</td>\n",
       "      <td>15924.49</td>\n",
       "      <td>15924.49</td>\n",
       "      <td>15917.45</td>\n",
       "      <td>15917.45</td>\n",
       "      <td>0.213033</td>\n",
       "    </tr>\n",
       "  </tbody>\n",
       "</table>\n",
       "<p>1440 rows × 6 columns</p>\n",
       "</div>"
      ],
      "text/plain": [
       "                        Timestamp      Open      High       Low     Close  \\\n",
       "Date                                                                        \n",
       "2020-11-15 00:00:00  1.605398e+09  15916.88  15916.88  15901.71  15901.71   \n",
       "2020-11-15 00:01:00  1.605398e+09  15906.77  15906.77  15895.00  15895.00   \n",
       "2020-11-15 00:02:00  1.605399e+09  15900.36  15902.09  15893.84  15902.09   \n",
       "2020-11-15 00:03:00  1.605399e+09  15900.09  15906.20  15900.09  15906.20   \n",
       "2020-11-15 00:04:00  1.605399e+09  15900.00  15905.59  15898.38  15903.61   \n",
       "...                           ...       ...       ...       ...       ...   \n",
       "2020-11-15 23:55:00  1.605484e+09  15917.97  15921.66  15917.97  15921.66   \n",
       "2020-11-15 23:56:00  1.605485e+09  15912.50  15918.32  15909.98  15913.56   \n",
       "2020-11-15 23:57:00  1.605485e+09  15917.78  15917.78  15917.78  15917.78   \n",
       "2020-11-15 23:58:00  1.605485e+09  15914.79  15914.79  15908.04  15908.04   \n",
       "2020-11-15 23:59:00  1.605485e+09  15924.49  15924.49  15917.45  15917.45   \n",
       "\n",
       "                       Volume  \n",
       "Date                           \n",
       "2020-11-15 00:00:00  1.046218  \n",
       "2020-11-15 00:01:00  1.182469  \n",
       "2020-11-15 00:02:00  0.733027  \n",
       "2020-11-15 00:03:00  0.994389  \n",
       "2020-11-15 00:04:00  2.374064  \n",
       "...                       ...  \n",
       "2020-11-15 23:55:00  0.208800  \n",
       "2020-11-15 23:56:00  0.199135  \n",
       "2020-11-15 23:57:00  0.043529  \n",
       "2020-11-15 23:58:00  0.207144  \n",
       "2020-11-15 23:59:00  0.213033  \n",
       "\n",
       "[1440 rows x 6 columns]"
      ]
     },
     "execution_count": 13,
     "metadata": {},
     "output_type": "execute_result"
    }
   ],
   "source": [
    "df.loc['2020-11-15']"
   ]
  },
  {
   "cell_type": "code",
   "execution_count": 14,
   "id": "533a37b6",
   "metadata": {
    "execution": {
     "iopub.execute_input": "2025-07-02T14:34:20.105429Z",
     "iopub.status.busy": "2025-07-02T14:34:20.104693Z",
     "iopub.status.idle": "2025-07-02T14:34:20.109845Z",
     "shell.execute_reply": "2025-07-02T14:34:20.108836Z"
    },
    "papermill": {
     "duration": 0.01353,
     "end_time": "2025-07-02T14:34:20.111438",
     "exception": false,
     "start_time": "2025-07-02T14:34:20.097908",
     "status": "completed"
    },
    "tags": []
   },
   "outputs": [],
   "source": [
    "df.columns = df.columns.str.lower()"
   ]
  },
  {
   "cell_type": "markdown",
   "id": "680f403e",
   "metadata": {
    "papermill": {
     "duration": 0.005555,
     "end_time": "2025-07-02T14:34:20.122939",
     "exception": false,
     "start_time": "2025-07-02T14:34:20.117384",
     "status": "completed"
    },
    "tags": []
   },
   "source": [
    "# Data Exploration"
   ]
  },
  {
   "cell_type": "code",
   "execution_count": 15,
   "id": "ca8612d4",
   "metadata": {
    "collapsed": true,
    "execution": {
     "iopub.execute_input": "2025-07-02T14:34:20.136211Z",
     "iopub.status.busy": "2025-07-02T14:34:20.135503Z",
     "iopub.status.idle": "2025-07-02T14:34:20.452178Z",
     "shell.execute_reply": "2025-07-02T14:34:20.451155Z"
    },
    "jupyter": {
     "outputs_hidden": true
    },
    "papermill": {
     "duration": 0.324944,
     "end_time": "2025-07-02T14:34:20.453737",
     "exception": false,
     "start_time": "2025-07-02T14:34:20.128793",
     "status": "completed"
    },
    "tags": []
   },
   "outputs": [
    {
     "data": {
      "text/html": [
       "<div>\n",
       "<style scoped>\n",
       "    .dataframe tbody tr th:only-of-type {\n",
       "        vertical-align: middle;\n",
       "    }\n",
       "\n",
       "    .dataframe tbody tr th {\n",
       "        vertical-align: top;\n",
       "    }\n",
       "\n",
       "    .dataframe thead th {\n",
       "        text-align: right;\n",
       "    }\n",
       "</style>\n",
       "<table border=\"1\" class=\"dataframe\">\n",
       "  <thead>\n",
       "    <tr style=\"text-align: right;\">\n",
       "      <th></th>\n",
       "      <th>timestamp</th>\n",
       "      <th>open</th>\n",
       "      <th>high</th>\n",
       "      <th>low</th>\n",
       "      <th>close</th>\n",
       "      <th>volume</th>\n",
       "    </tr>\n",
       "    <tr>\n",
       "      <th>Date</th>\n",
       "      <th></th>\n",
       "      <th></th>\n",
       "      <th></th>\n",
       "      <th></th>\n",
       "      <th></th>\n",
       "      <th></th>\n",
       "    </tr>\n",
       "  </thead>\n",
       "  <tbody>\n",
       "    <tr>\n",
       "      <th>2015-01-31</th>\n",
       "      <td>1.421410e+09</td>\n",
       "      <td>251.016341</td>\n",
       "      <td>251.210397</td>\n",
       "      <td>250.813418</td>\n",
       "      <td>251.017518</td>\n",
       "      <td>17.481049</td>\n",
       "    </tr>\n",
       "    <tr>\n",
       "      <th>2015-02-28</th>\n",
       "      <td>1.423958e+09</td>\n",
       "      <td>233.876887</td>\n",
       "      <td>233.974918</td>\n",
       "      <td>233.772456</td>\n",
       "      <td>233.884845</td>\n",
       "      <td>8.722941</td>\n",
       "    </tr>\n",
       "    <tr>\n",
       "      <th>2015-03-31</th>\n",
       "      <td>1.426507e+09</td>\n",
       "      <td>268.439819</td>\n",
       "      <td>268.517325</td>\n",
       "      <td>268.352370</td>\n",
       "      <td>268.440615</td>\n",
       "      <td>6.661841</td>\n",
       "    </tr>\n",
       "    <tr>\n",
       "      <th>2015-04-30</th>\n",
       "      <td>1.429142e+09</td>\n",
       "      <td>234.752875</td>\n",
       "      <td>234.810995</td>\n",
       "      <td>234.692616</td>\n",
       "      <td>234.751606</td>\n",
       "      <td>5.896171</td>\n",
       "    </tr>\n",
       "    <tr>\n",
       "      <th>2015-05-31</th>\n",
       "      <td>1.431778e+09</td>\n",
       "      <td>236.648834</td>\n",
       "      <td>236.701549</td>\n",
       "      <td>236.591383</td>\n",
       "      <td>236.644265</td>\n",
       "      <td>4.509684</td>\n",
       "    </tr>\n",
       "    <tr>\n",
       "      <th>...</th>\n",
       "      <td>...</td>\n",
       "      <td>...</td>\n",
       "      <td>...</td>\n",
       "      <td>...</td>\n",
       "      <td>...</td>\n",
       "      <td>...</td>\n",
       "    </tr>\n",
       "    <tr>\n",
       "      <th>2025-03-31</th>\n",
       "      <td>1.742129e+09</td>\n",
       "      <td>85044.141421</td>\n",
       "      <td>85071.599241</td>\n",
       "      <td>85016.624425</td>\n",
       "      <td>85044.007360</td>\n",
       "      <td>1.233456</td>\n",
       "    </tr>\n",
       "    <tr>\n",
       "      <th>2025-04-30</th>\n",
       "      <td>1.744762e+09</td>\n",
       "      <td>86333.273634</td>\n",
       "      <td>86355.798889</td>\n",
       "      <td>86308.529745</td>\n",
       "      <td>86331.166042</td>\n",
       "      <td>1.137700</td>\n",
       "    </tr>\n",
       "    <tr>\n",
       "      <th>2025-05-31</th>\n",
       "      <td>1.747397e+09</td>\n",
       "      <td>103376.919400</td>\n",
       "      <td>103396.772648</td>\n",
       "      <td>103356.319108</td>\n",
       "      <td>103376.595139</td>\n",
       "      <td>0.822993</td>\n",
       "    </tr>\n",
       "    <tr>\n",
       "      <th>2025-06-30</th>\n",
       "      <td>1.750032e+09</td>\n",
       "      <td>105726.668565</td>\n",
       "      <td>105744.717083</td>\n",
       "      <td>105709.499167</td>\n",
       "      <td>105727.283056</td>\n",
       "      <td>0.636200</td>\n",
       "    </tr>\n",
       "    <tr>\n",
       "      <th>2025-07-31</th>\n",
       "      <td>1.751373e+09</td>\n",
       "      <td>106481.900604</td>\n",
       "      <td>106495.042982</td>\n",
       "      <td>106466.347213</td>\n",
       "      <td>106479.529214</td>\n",
       "      <td>0.634783</td>\n",
       "    </tr>\n",
       "  </tbody>\n",
       "</table>\n",
       "<p>127 rows × 6 columns</p>\n",
       "</div>"
      ],
      "text/plain": [
       "               timestamp           open           high            low  \\\n",
       "Date                                                                    \n",
       "2015-01-31  1.421410e+09     251.016341     251.210397     250.813418   \n",
       "2015-02-28  1.423958e+09     233.876887     233.974918     233.772456   \n",
       "2015-03-31  1.426507e+09     268.439819     268.517325     268.352370   \n",
       "2015-04-30  1.429142e+09     234.752875     234.810995     234.692616   \n",
       "2015-05-31  1.431778e+09     236.648834     236.701549     236.591383   \n",
       "...                  ...            ...            ...            ...   \n",
       "2025-03-31  1.742129e+09   85044.141421   85071.599241   85016.624425   \n",
       "2025-04-30  1.744762e+09   86333.273634   86355.798889   86308.529745   \n",
       "2025-05-31  1.747397e+09  103376.919400  103396.772648  103356.319108   \n",
       "2025-06-30  1.750032e+09  105726.668565  105744.717083  105709.499167   \n",
       "2025-07-31  1.751373e+09  106481.900604  106495.042982  106466.347213   \n",
       "\n",
       "                    close     volume  \n",
       "Date                                  \n",
       "2015-01-31     251.017518  17.481049  \n",
       "2015-02-28     233.884845   8.722941  \n",
       "2015-03-31     268.440615   6.661841  \n",
       "2015-04-30     234.751606   5.896171  \n",
       "2015-05-31     236.644265   4.509684  \n",
       "...                   ...        ...  \n",
       "2025-03-31   85044.007360   1.233456  \n",
       "2025-04-30   86331.166042   1.137700  \n",
       "2025-05-31  103376.595139   0.822993  \n",
       "2025-06-30  105727.283056   0.636200  \n",
       "2025-07-31  106479.529214   0.634783  \n",
       "\n",
       "[127 rows x 6 columns]"
      ]
     },
     "execution_count": 15,
     "metadata": {},
     "output_type": "execute_result"
    }
   ],
   "source": [
    "# resampling to monthly/yearly/weekly frequency and calc the mean closing price\n",
    "df.resample('M').mean() # or Y, W"
   ]
  },
  {
   "cell_type": "code",
   "execution_count": 16,
   "id": "0d0eec89",
   "metadata": {
    "collapsed": true,
    "execution": {
     "iopub.execute_input": "2025-07-02T14:34:20.468496Z",
     "iopub.status.busy": "2025-07-02T14:34:20.468189Z",
     "iopub.status.idle": "2025-07-02T14:34:22.295428Z",
     "shell.execute_reply": "2025-07-02T14:34:22.294459Z"
    },
    "jupyter": {
     "outputs_hidden": true
    },
    "papermill": {
     "duration": 1.836269,
     "end_time": "2025-07-02T14:34:22.296823",
     "exception": false,
     "start_time": "2025-07-02T14:34:20.460554",
     "status": "completed"
    },
    "tags": []
   },
   "outputs": [
    {
     "data": {
      "image/png": "[encoded data removed]",
      "text/plain": [
       "<Figure size 640x480 with 1 Axes>"
      ]
     },
     "metadata": {},
     "output_type": "display_data"
    }
   ],
   "source": [
    "# 7-day rolling average (doing for 1000)\n",
    "df['7_day_rolling'] = df['close'].rolling(window = 1000).mean()\n",
    "df[['close', '7_day_rolling']].loc['2025'].plot()\n",
    "plt.show()"
   ]
  },
  {
   "cell_type": "code",
   "execution_count": 17,
   "id": "187b3fd3",
   "metadata": {
    "execution": {
     "iopub.execute_input": "2025-07-02T14:34:22.313010Z",
     "iopub.status.busy": "2025-07-02T14:34:22.312249Z",
     "iopub.status.idle": "2025-07-02T14:34:22.857745Z",
     "shell.execute_reply": "2025-07-02T14:34:22.856873Z"
    },
    "papermill": {
     "duration": 0.554977,
     "end_time": "2025-07-02T14:34:22.859206",
     "exception": false,
     "start_time": "2025-07-02T14:34:22.304229",
     "status": "completed"
    },
    "tags": []
   },
   "outputs": [
    {
     "data": {
      "text/plain": [
       "Timestamp('2025-07-31 00:00:00')"
      ]
     },
     "execution_count": 17,
     "metadata": {},
     "output_type": "execute_result"
    }
   ],
   "source": [
    "# find out the highest average month\n",
    "# resample -> Convenience method for frequency conversion and resampling of time series\n",
    "df.resample('M').mean()['close'].idxmax()"
   ]
  },
  {
   "cell_type": "code",
   "execution_count": 18,
   "id": "10fe7acb",
   "metadata": {
    "execution": {
     "iopub.execute_input": "2025-07-02T14:34:22.875068Z",
     "iopub.status.busy": "2025-07-02T14:34:22.874774Z",
     "iopub.status.idle": "2025-07-02T14:34:23.022752Z",
     "shell.execute_reply": "2025-07-02T14:34:23.021999Z"
    },
    "papermill": {
     "duration": 0.157813,
     "end_time": "2025-07-02T14:34:23.024409",
     "exception": false,
     "start_time": "2025-07-02T14:34:22.866596",
     "status": "completed"
    },
    "tags": []
   },
   "outputs": [],
   "source": [
    "# calculate daily returns -> (value of today / value of yesterday) -1\n",
    "# pct_change -> Fractional change between the current and a prior element\n",
    "df['daily_returns'] = df['close'].pct_change() * 100"
   ]
  },
  {
   "cell_type": "code",
   "execution_count": 19,
   "id": "d7983f9e",
   "metadata": {
    "execution": {
     "iopub.execute_input": "2025-07-02T14:34:23.041018Z",
     "iopub.status.busy": "2025-07-02T14:34:23.040163Z",
     "iopub.status.idle": "2025-07-02T14:34:23.074952Z",
     "shell.execute_reply": "2025-07-02T14:34:23.074136Z"
    },
    "papermill": {
     "duration": 0.044693,
     "end_time": "2025-07-02T14:34:23.076474",
     "exception": false,
     "start_time": "2025-07-02T14:34:23.031781",
     "status": "completed"
    },
    "tags": []
   },
   "outputs": [
    {
     "data": {
      "text/html": [
       "<div>\n",
       "<style scoped>\n",
       "    .dataframe tbody tr th:only-of-type {\n",
       "        vertical-align: middle;\n",
       "    }\n",
       "\n",
       "    .dataframe tbody tr th {\n",
       "        vertical-align: top;\n",
       "    }\n",
       "\n",
       "    .dataframe thead th {\n",
       "        text-align: right;\n",
       "    }\n",
       "</style>\n",
       "<table border=\"1\" class=\"dataframe\">\n",
       "  <thead>\n",
       "    <tr style=\"text-align: right;\">\n",
       "      <th></th>\n",
       "      <th>timestamp</th>\n",
       "      <th>open</th>\n",
       "      <th>high</th>\n",
       "      <th>low</th>\n",
       "      <th>close</th>\n",
       "      <th>volume</th>\n",
       "      <th>7_day_rolling</th>\n",
       "      <th>daily_returns</th>\n",
       "    </tr>\n",
       "    <tr>\n",
       "      <th>Date</th>\n",
       "      <th></th>\n",
       "      <th></th>\n",
       "      <th></th>\n",
       "      <th></th>\n",
       "      <th></th>\n",
       "      <th></th>\n",
       "      <th></th>\n",
       "      <th></th>\n",
       "    </tr>\n",
       "  </thead>\n",
       "  <tbody>\n",
       "    <tr>\n",
       "      <th>2015-01-14 12:42:00</th>\n",
       "      <td>1.421239e+09</td>\n",
       "      <td>172.0</td>\n",
       "      <td>175.00</td>\n",
       "      <td>153.1</td>\n",
       "      <td>153.10</td>\n",
       "      <td>1000.442631</td>\n",
       "      <td>223.70562</td>\n",
       "      <td>-10.509703</td>\n",
       "    </tr>\n",
       "    <tr>\n",
       "      <th>2019-05-17 07:10:00</th>\n",
       "      <td>1.558077e+09</td>\n",
       "      <td>6250.0</td>\n",
       "      <td>6907.01</td>\n",
       "      <td>6178.0</td>\n",
       "      <td>6907.01</td>\n",
       "      <td>150.971151</td>\n",
       "      <td>7868.22483</td>\n",
       "      <td>10.512160</td>\n",
       "    </tr>\n",
       "  </tbody>\n",
       "</table>\n",
       "</div>"
      ],
      "text/plain": [
       "                        timestamp    open     high     low    close  \\\n",
       "Date                                                                  \n",
       "2015-01-14 12:42:00  1.421239e+09   172.0   175.00   153.1   153.10   \n",
       "2019-05-17 07:10:00  1.558077e+09  6250.0  6907.01  6178.0  6907.01   \n",
       "\n",
       "                          volume  7_day_rolling  daily_returns  \n",
       "Date                                                            \n",
       "2015-01-14 12:42:00  1000.442631      223.70562     -10.509703  \n",
       "2019-05-17 07:10:00   150.971151     7868.22483      10.512160  "
      ]
     },
     "execution_count": 19,
     "metadata": {},
     "output_type": "execute_result"
    }
   ],
   "source": [
    "# days with more than 10% change in closing price\n",
    "df[abs(df['daily_returns']) > 10]\n",
    "# 2 days where daily return was above 10% or less than -10%"
   ]
  },
  {
   "cell_type": "markdown",
   "id": "c69e8763",
   "metadata": {
    "papermill": {
     "duration": 0.007382,
     "end_time": "2025-07-02T14:34:23.091290",
     "exception": false,
     "start_time": "2025-07-02T14:34:23.083908",
     "status": "completed"
    },
    "tags": []
   },
   "source": [
    "# Data visualization"
   ]
  },
  {
   "cell_type": "code",
   "execution_count": 20,
   "id": "05c4010f",
   "metadata": {
    "execution": {
     "iopub.execute_input": "2025-07-02T14:34:23.107103Z",
     "iopub.status.busy": "2025-07-02T14:34:23.106768Z",
     "iopub.status.idle": "2025-07-02T14:34:34.624592Z",
     "shell.execute_reply": "2025-07-02T14:34:34.623779Z"
    },
    "papermill": {
     "duration": 11.527676,
     "end_time": "2025-07-02T14:34:34.626178",
     "exception": false,
     "start_time": "2025-07-02T14:34:23.098502",
     "status": "completed"
    },
    "tags": []
   },
   "outputs": [
    {
     "data": {
      "image/png": "[encoded data removed]",
      "text/plain": [
       "<Figure size 640x480 with 1 Axes>"
      ]
     },
     "metadata": {},
     "output_type": "display_data"
    }
   ],
   "source": [
    "# daily closing price plot\n",
    "df['close'].plot(title = 'Daily Closing Price')\n",
    "plt.show()"
   ]
  },
  {
   "cell_type": "code",
   "execution_count": 21,
   "id": "c3e69d89",
   "metadata": {
    "execution": {
     "iopub.execute_input": "2025-07-02T14:34:34.643680Z",
     "iopub.status.busy": "2025-07-02T14:34:34.643408Z",
     "iopub.status.idle": "2025-07-02T14:34:35.349949Z",
     "shell.execute_reply": "2025-07-02T14:34:35.349066Z"
    },
    "papermill": {
     "duration": 0.717108,
     "end_time": "2025-07-02T14:34:35.351683",
     "exception": false,
     "start_time": "2025-07-02T14:34:34.634575",
     "status": "completed"
    },
    "tags": []
   },
   "outputs": [
    {
     "data": {
      "image/png": "[encoded data removed]",
      "text/plain": [
       "<Figure size 640x480 with 1 Axes>"
      ]
     },
     "metadata": {},
     "output_type": "display_data"
    }
   ],
   "source": [
    "# plot the yearly volume\n",
    "df.resample('Y').sum()['volume'].plot(title ='Yearly Volume')\n",
    "plt.show()"
   ]
  },
  {
   "cell_type": "code",
   "execution_count": 22,
   "id": "3a7d040e",
   "metadata": {
    "execution": {
     "iopub.execute_input": "2025-07-02T14:34:35.370451Z",
     "iopub.status.busy": "2025-07-02T14:34:35.370151Z",
     "iopub.status.idle": "2025-07-02T14:34:59.226472Z",
     "shell.execute_reply": "2025-07-02T14:34:59.225528Z"
    },
    "papermill": {
     "duration": 23.867411,
     "end_time": "2025-07-02T14:34:59.227973",
     "exception": false,
     "start_time": "2025-07-02T14:34:35.360562",
     "status": "completed"
    },
    "tags": []
   },
   "outputs": [
    {
     "data": {
      "image/png": "[encoded data removed]",
      "text/plain": [
       "<Figure size 640x480 with 2 Axes>"
      ]
     },
     "metadata": {},
     "output_type": "display_data"
    }
   ],
   "source": [
    "# plot closing price and 30-day rolling volume\n",
    "df['30_volume_rolling'] = df['volume'].rolling(window = 30).mean() # 9000\n",
    "df['30_volume_rolling'].plot(legend=True)\n",
    "ax = df['close'].plot(secondary_y = True, legend = True)\n",
    "plt.show()"
   ]
  },
  {
   "cell_type": "code",
   "execution_count": 23,
   "id": "1acd60a6",
   "metadata": {
    "execution": {
     "iopub.execute_input": "2025-07-02T14:34:59.247951Z",
     "iopub.status.busy": "2025-07-02T14:34:59.247639Z",
     "iopub.status.idle": "2025-07-02T14:34:59.472775Z",
     "shell.execute_reply": "2025-07-02T14:34:59.471670Z"
    },
    "papermill": {
     "duration": 0.237125,
     "end_time": "2025-07-02T14:34:59.474603",
     "exception": false,
     "start_time": "2025-07-02T14:34:59.237478",
     "status": "completed"
    },
    "tags": []
   },
   "outputs": [
    {
     "data": {
      "text/html": [
       "<div>\n",
       "<style scoped>\n",
       "    .dataframe tbody tr th:only-of-type {\n",
       "        vertical-align: middle;\n",
       "    }\n",
       "\n",
       "    .dataframe tbody tr th {\n",
       "        vertical-align: top;\n",
       "    }\n",
       "\n",
       "    .dataframe thead th {\n",
       "        text-align: right;\n",
       "    }\n",
       "</style>\n",
       "<table border=\"1\" class=\"dataframe\">\n",
       "  <thead>\n",
       "    <tr style=\"text-align: right;\">\n",
       "      <th></th>\n",
       "      <th>close</th>\n",
       "      <th>30_volume_rolling</th>\n",
       "    </tr>\n",
       "  </thead>\n",
       "  <tbody>\n",
       "    <tr>\n",
       "      <th>close</th>\n",
       "      <td>1.00000</td>\n",
       "      <td>-0.23932</td>\n",
       "    </tr>\n",
       "    <tr>\n",
       "      <th>30_volume_rolling</th>\n",
       "      <td>-0.23932</td>\n",
       "      <td>1.00000</td>\n",
       "    </tr>\n",
       "  </tbody>\n",
       "</table>\n",
       "</div>"
      ],
      "text/plain": [
       "                     close  30_volume_rolling\n",
       "close              1.00000           -0.23932\n",
       "30_volume_rolling -0.23932            1.00000"
      ]
     },
     "execution_count": 23,
     "metadata": {},
     "output_type": "execute_result"
    }
   ],
   "source": [
    "# correlation between 30-day rolling volume and the closing price\n",
    "df[['close', '30_volume_rolling']].corr()\n",
    "# negative correlation -> means higher the volume lower the closing price and vice-versa"
   ]
  },
  {
   "cell_type": "markdown",
   "id": "b142b01b",
   "metadata": {
    "papermill": {
     "duration": 0.009332,
     "end_time": "2025-07-02T14:34:59.493782",
     "exception": false,
     "start_time": "2025-07-02T14:34:59.484450",
     "status": "completed"
    },
    "tags": []
   },
   "source": [
    "# Data manipulation"
   ]
  },
  {
   "cell_type": "code",
   "execution_count": 24,
   "id": "19a2410c",
   "metadata": {
    "execution": {
     "iopub.execute_input": "2025-07-02T14:34:59.513964Z",
     "iopub.status.busy": "2025-07-02T14:34:59.513659Z",
     "iopub.status.idle": "2025-07-02T14:34:59.707698Z",
     "shell.execute_reply": "2025-07-02T14:34:59.706868Z"
    },
    "papermill": {
     "duration": 0.205785,
     "end_time": "2025-07-02T14:34:59.709182",
     "exception": false,
     "start_time": "2025-07-02T14:34:59.503397",
     "status": "completed"
    },
    "tags": []
   },
   "outputs": [
    {
     "data": {
      "text/plain": [
       "timestamp              0\n",
       "open                   0\n",
       "high                   0\n",
       "low                    0\n",
       "close                  0\n",
       "volume                 0\n",
       "7_day_rolling        999\n",
       "daily_returns          1\n",
       "30_volume_rolling     29\n",
       "dtype: int64"
      ]
     },
     "execution_count": 24,
     "metadata": {},
     "output_type": "execute_result"
    }
   ],
   "source": [
    "df.isna().sum()"
   ]
  },
  {
   "cell_type": "code",
   "execution_count": 25,
   "id": "ed7ac21f",
   "metadata": {
    "execution": {
     "iopub.execute_input": "2025-07-02T14:34:59.729490Z",
     "iopub.status.busy": "2025-07-02T14:34:59.729143Z",
     "iopub.status.idle": "2025-07-02T14:34:59.742815Z",
     "shell.execute_reply": "2025-07-02T14:34:59.741802Z"
    },
    "papermill": {
     "duration": 0.025775,
     "end_time": "2025-07-02T14:34:59.744499",
     "exception": false,
     "start_time": "2025-07-02T14:34:59.718724",
     "status": "completed"
    },
    "tags": []
   },
   "outputs": [
    {
     "data": {
      "text/html": [
       "<div>\n",
       "<style scoped>\n",
       "    .dataframe tbody tr th:only-of-type {\n",
       "        vertical-align: middle;\n",
       "    }\n",
       "\n",
       "    .dataframe tbody tr th {\n",
       "        vertical-align: top;\n",
       "    }\n",
       "\n",
       "    .dataframe thead th {\n",
       "        text-align: right;\n",
       "    }\n",
       "</style>\n",
       "<table border=\"1\" class=\"dataframe\">\n",
       "  <thead>\n",
       "    <tr style=\"text-align: right;\">\n",
       "      <th></th>\n",
       "      <th>timestamp</th>\n",
       "      <th>open</th>\n",
       "      <th>high</th>\n",
       "      <th>low</th>\n",
       "      <th>close</th>\n",
       "      <th>volume</th>\n",
       "      <th>7_day_rolling</th>\n",
       "      <th>daily_returns</th>\n",
       "      <th>30_volume_rolling</th>\n",
       "    </tr>\n",
       "    <tr>\n",
       "      <th>Date</th>\n",
       "      <th></th>\n",
       "      <th></th>\n",
       "      <th></th>\n",
       "      <th></th>\n",
       "      <th></th>\n",
       "      <th></th>\n",
       "      <th></th>\n",
       "      <th></th>\n",
       "      <th></th>\n",
       "    </tr>\n",
       "  </thead>\n",
       "  <tbody>\n",
       "    <tr>\n",
       "      <th>2015-01-01 00:00:00</th>\n",
       "      <td>1.420070e+09</td>\n",
       "      <td>316.67</td>\n",
       "      <td>316.67</td>\n",
       "      <td>316.67</td>\n",
       "      <td>316.67</td>\n",
       "      <td>1.336312</td>\n",
       "      <td>NaN</td>\n",
       "      <td>NaN</td>\n",
       "      <td>NaN</td>\n",
       "    </tr>\n",
       "    <tr>\n",
       "      <th>2015-01-01 00:01:00</th>\n",
       "      <td>1.420070e+09</td>\n",
       "      <td>316.38</td>\n",
       "      <td>316.38</td>\n",
       "      <td>316.30</td>\n",
       "      <td>316.30</td>\n",
       "      <td>3.000000</td>\n",
       "      <td>NaN</td>\n",
       "      <td>-0.116841</td>\n",
       "      <td>NaN</td>\n",
       "    </tr>\n",
       "  </tbody>\n",
       "</table>\n",
       "</div>"
      ],
      "text/plain": [
       "                        timestamp    open    high     low   close    volume  \\\n",
       "Date                                                                          \n",
       "2015-01-01 00:00:00  1.420070e+09  316.67  316.67  316.67  316.67  1.336312   \n",
       "2015-01-01 00:01:00  1.420070e+09  316.38  316.38  316.30  316.30  3.000000   \n",
       "\n",
       "                     7_day_rolling  daily_returns  30_volume_rolling  \n",
       "Date                                                                  \n",
       "2015-01-01 00:00:00            NaN            NaN                NaN  \n",
       "2015-01-01 00:01:00            NaN      -0.116841                NaN  "
      ]
     },
     "execution_count": 25,
     "metadata": {},
     "output_type": "execute_result"
    }
   ],
   "source": [
    "df.head(2)"
   ]
  },
  {
   "cell_type": "code",
   "execution_count": 26,
   "id": "d9a3eac1",
   "metadata": {
    "execution": {
     "iopub.execute_input": "2025-07-02T14:34:59.766209Z",
     "iopub.status.busy": "2025-07-02T14:34:59.765391Z",
     "iopub.status.idle": "2025-07-02T14:35:02.116382Z",
     "shell.execute_reply": "2025-07-02T14:35:02.115422Z"
    },
    "papermill": {
     "duration": 2.363432,
     "end_time": "2025-07-02T14:35:02.118144",
     "exception": false,
     "start_time": "2025-07-02T14:34:59.754712",
     "status": "completed"
    },
    "tags": []
   },
   "outputs": [
    {
     "data": {
      "text/html": [
       "<div>\n",
       "<style scoped>\n",
       "    .dataframe tbody tr th:only-of-type {\n",
       "        vertical-align: middle;\n",
       "    }\n",
       "\n",
       "    .dataframe tbody tr th {\n",
       "        vertical-align: top;\n",
       "    }\n",
       "\n",
       "    .dataframe thead th {\n",
       "        text-align: right;\n",
       "    }\n",
       "</style>\n",
       "<table border=\"1\" class=\"dataframe\">\n",
       "  <thead>\n",
       "    <tr style=\"text-align: right;\">\n",
       "      <th></th>\n",
       "      <th>timestamp</th>\n",
       "      <th>open</th>\n",
       "      <th>high</th>\n",
       "      <th>low</th>\n",
       "      <th>close</th>\n",
       "      <th>volume</th>\n",
       "      <th>7_day_rolling</th>\n",
       "      <th>daily_returns</th>\n",
       "      <th>30_volume_rolling</th>\n",
       "      <th>year</th>\n",
       "      <th>month</th>\n",
       "      <th>day</th>\n",
       "      <th>weekday</th>\n",
       "      <th>weekday_num</th>\n",
       "      <th>is_weekend</th>\n",
       "    </tr>\n",
       "    <tr>\n",
       "      <th>Date</th>\n",
       "      <th></th>\n",
       "      <th></th>\n",
       "      <th></th>\n",
       "      <th></th>\n",
       "      <th></th>\n",
       "      <th></th>\n",
       "      <th></th>\n",
       "      <th></th>\n",
       "      <th></th>\n",
       "      <th></th>\n",
       "      <th></th>\n",
       "      <th></th>\n",
       "      <th></th>\n",
       "      <th></th>\n",
       "      <th></th>\n",
       "    </tr>\n",
       "  </thead>\n",
       "  <tbody>\n",
       "    <tr>\n",
       "      <th>2015-01-01</th>\n",
       "      <td>1.420070e+09</td>\n",
       "      <td>316.67</td>\n",
       "      <td>316.67</td>\n",
       "      <td>316.67</td>\n",
       "      <td>316.67</td>\n",
       "      <td>1.336312</td>\n",
       "      <td>NaN</td>\n",
       "      <td>NaN</td>\n",
       "      <td>NaN</td>\n",
       "      <td>2015</td>\n",
       "      <td>1</td>\n",
       "      <td>1</td>\n",
       "      <td>Thursday</td>\n",
       "      <td>3</td>\n",
       "      <td>False</td>\n",
       "    </tr>\n",
       "  </tbody>\n",
       "</table>\n",
       "</div>"
      ],
      "text/plain": [
       "               timestamp    open    high     low   close    volume  \\\n",
       "Date                                                                 \n",
       "2015-01-01  1.420070e+09  316.67  316.67  316.67  316.67  1.336312   \n",
       "\n",
       "            7_day_rolling  daily_returns  30_volume_rolling  year  month  day  \\\n",
       "Date                                                                            \n",
       "2015-01-01            NaN            NaN                NaN  2015      1    1   \n",
       "\n",
       "             weekday  weekday_num  is_weekend  \n",
       "Date                                           \n",
       "2015-01-01  Thursday            3       False  "
      ]
     },
     "execution_count": 26,
     "metadata": {},
     "output_type": "execute_result"
    }
   ],
   "source": [
    "df['year'] = df.index.year\n",
    "df['month'] = df.index.month \n",
    "df['day'] = df.index.day\n",
    "df['weekday'] = df.index.day_name()\n",
    "df['weekday_num'] = df.index.weekday # monday -0, sun - 6\n",
    "df['is_weekend'] = df.index.weekday > 4 # sat, sun\n",
    "\n",
    "df.head(1)"
   ]
  },
  {
   "cell_type": "code",
   "execution_count": null,
   "id": "ccbeae44",
   "metadata": {
    "papermill": {
     "duration": 0.010524,
     "end_time": "2025-07-02T14:35:02.138850",
     "exception": false,
     "start_time": "2025-07-02T14:35:02.128326",
     "status": "completed"
    },
    "tags": []
   },
   "outputs": [],
   "source": []
  }
 ],
 "metadata": {
  "kaggle": {
   "accelerator": "none",
   "dataSources": [
    {
     "datasetId": 1346,
     "sourceId": 12345568,
     "sourceType": "datasetVersion"
    }
   ],
   "dockerImageVersionId": 31040,
   "isGpuEnabled": false,
   "isInternetEnabled": false,
   "language": "python",
   "sourceType": "notebook"
  },
  "kernelspec": {
   "display_name": "Python 3",
   "language": "python",
   "name": "python3"
  },
  "language_info": {
   "codemirror_mode": {
    "name": "ipython",
    "version": 3
   },
   "file_extension": ".py",
   "mimetype": "text/x-python",
   "name": "python",
   "nbconvert_exporter": "python",
   "pygments_lexer": "ipython3",
   "version": "3.11.11"
  },
  "papermill": {
   "default_parameters": {},
   "duration": 64.867258,
   "end_time": "2025-07-02T14:35:04.871203",
   "environment_variables": {},
   "exception": null,
   "input_path": "__notebook__.ipynb",
   "output_path": "__notebook__.ipynb",
   "parameters": {},
   "start_time": "2025-07-02T14:34:00.003945",
   "version": "2.6.0"
  }
 },
 "nbformat": 4,
 "nbformat_minor": 5
}
